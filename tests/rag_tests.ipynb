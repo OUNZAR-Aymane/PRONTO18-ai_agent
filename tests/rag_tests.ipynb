{
 "cells": [
  {
   "cell_type": "code",
   "execution_count": 16,
   "id": "5201db33",
   "metadata": {},
   "outputs": [],
   "source": [
    "import os\n",
    "import time\n",
    "import json\n",
    "import sys\n",
    "from pathlib import Path\n",
    "import pandas as pd\n",
    "from dotenv import load_dotenv\n",
    "from langchain.chains.combine_documents import create_stuff_documents_chain\n",
    "from langchain.chains import create_retrieval_chain\n",
    "from langchain_core.prompts import PromptTemplate\n",
    "from sentence_transformers import SentenceTransformer, util\n",
    "from langchain_core.prompts import ChatPromptTemplate\n",
    "from langchain_mistralai.embeddings import MistralAIEmbeddings\n",
    "from langchain_mistralai.chat_models import ChatMistralAI\n",
    "from langchain_core.output_parsers import StrOutputParser\n",
    "from langchain_community.vectorstores import FAISS\n",
    "from tqdm import tqdm\n",
    "from typing import TypedDict, Annotated\n",
    "sys.path.insert(0, str(Path().resolve().parent / \"app\"))"
   ]
  },
  {
   "cell_type": "code",
   "execution_count": 17,
   "id": "d34bc0da",
   "metadata": {},
   "outputs": [
    {
     "name": "stdout",
     "output_type": "stream",
     "text": [
      "Chargement de l'environnement...\n"
     ]
    }
   ],
   "source": [
    "# Load environment\n",
    "print(\"Chargement de l'environnement...\")\n",
    "load_dotenv()\n",
    "api_key = os.getenv(\"MISTRAL_API_KEY\")\n",
    "json_in = Path().resolve()/ \"QA_pairs.json\"\n",
    "index_path = Path().resolve().parent / \"document_index.json\"\n",
    "faiss_path = Path().resolve().parent / \"faiss_index\""
   ]
  },
  {
   "cell_type": "code",
   "execution_count": 18,
   "id": "993ad314",
   "metadata": {},
   "outputs": [],
   "source": [
    "# Choose if ypu want to use RAG or not\n",
    "use_rag = True"
   ]
  },
  {
   "cell_type": "code",
   "execution_count": 19,
   "id": "ddaafb97",
   "metadata": {},
   "outputs": [
    {
     "name": "stdout",
     "output_type": "stream",
     "text": [
      "Chargement des composants du chatbot...\n"
     ]
    }
   ],
   "source": [
    "print(\"Chargement des composants du chatbot...\")\n",
    "model = ChatMistralAI(mistral_api_key=api_key, model=\"mistral-large-latest\")\n",
    "embedding_fn = MistralAIEmbeddings(model=\"mistral-embed\", mistral_api_key=api_key)\n",
    "vector = FAISS.load_local(faiss_path, embeddings=embedding_fn, allow_dangerous_deserialization=True)\n",
    "\n",
    "if use_rag:\n",
    "    system_instruction_rag = \"\"\"\n",
    "    Tu es l’assistant de l’observatoire astronomique de l’IMT Atlantique (campus de Brest).\n",
    "    Règles impératives :\n",
    "    1. Réponds en français, en **trois phrases maximum**.\n",
    "    2. Appuie-toi *exclusivement* sur le CONTEXTE fourni ; si l’info n’y est pas, réponds : « Je ne sais pas. »\n",
    "    3. Toute formule → encadrée par des dollars : $\\,E = mc^2\\,$.\n",
    "    4. Tu donne des réponses **précises** et **concises**.\n",
    "    CONTEXTE :\n",
    "    {context}\n",
    "    \"\"\"\n",
    "\n",
    "    prompt_rag = ChatPromptTemplate.from_messages([\n",
    "        (\"system\", system_instruction_rag.strip()),\n",
    "        (\"human\", \"{input}\")\n",
    "    ])\n",
    "\n",
    "    retriever  = vector.as_retriever()\n",
    "\n",
    "    document_chain = create_stuff_documents_chain(model, prompt_rag)\n",
    "    chain_rag = create_retrieval_chain(retriever, document_chain)\n",
    "\n",
    "    def rag_get_response(question, chain=chain_rag):\n",
    "        while True :\n",
    "            try:\n",
    "                response = chain.invoke({\"input\": question})\n",
    "                break\n",
    "            except Exception as e:\n",
    "                print(f\"Erreur lors de l'appel à l'API : {e}\")\n",
    "        return response['answer']\n",
    "else :\n",
    "    system_instruction_norag = \"\"\"\n",
    "    Tu es l’assistant de l’observatoire astronomique de l’IMT Atlantique (campus de Brest).\n",
    "    Tu ne disposes pas des documents complets ; réponds uniquement sur la base de tes connaissances internes.\n",
    "    Contraintes :\n",
    "    1. Français, trois phrases maximum.\n",
    "    2. Formules mathématiques encadrées par des dollars (LaTeX).\n",
    "    3. Ne cite aucune source.\n",
    "    4. Si l’information précise n’est pas certaine, dis : « Je ne sais pas. »\n",
    "    5. Tu donne des réponses **précises** et **concises**.\n",
    "    \"\"\"\n",
    "\n",
    "    prompt_norag = ChatPromptTemplate.from_messages([\n",
    "        (\"system\", system_instruction_norag.strip()),\n",
    "        (\"human\", \"{input}\")\n",
    "    ])\n",
    "    output_parser = StrOutputParser()\n",
    "    chain_norag = prompt_norag | model | output_parser\n",
    "\n",
    "    def no_rag_get_response(question, chain=chain_norag):\n",
    "        while True :\n",
    "            try:\n",
    "                response = chain.invoke({\"input\": question})\n",
    "                break\n",
    "            except Exception as e:\n",
    "                print(f\"Erreur lors de l'appel à l'API : {e}\")\n",
    "        return response"
   ]
  },
  {
   "cell_type": "code",
   "execution_count": 20,
   "id": "ea56d382",
   "metadata": {},
   "outputs": [
    {
     "name": "stdout",
     "output_type": "stream",
     "text": [
      "Chargement des paires QA depuis QA_pairs.json...\n"
     ]
    }
   ],
   "source": [
    "print(\"Chargement des paires QA depuis QA_pairs.json...\")\n",
    "with open(index_path, encoding=\"utf-8\") as f:\n",
    "    doc_index = json.load(f)             # doc_name → UUID\n",
    "\n",
    "with open(json_in, encoding=\"utf-8\") as f:\n",
    "    raw_pairs = json.load(f)\n",
    "\n",
    "pairs = []\n",
    "for p in raw_pairs:\n",
    "    if not p.get(\"support_doc_ids\"):\n",
    "        uuid_ = doc_index.get(p[\"doc_name\"])\n",
    "        p[\"support_doc_ids\"] = [uuid_] if uuid_ else []\n",
    "    pairs.append(p)\n",
    "\n",
    "lookup = {p[\"question\"]: p for p in pairs}\n"
   ]
  },
  {
   "cell_type": "code",
   "execution_count": 21,
   "id": "369ce352",
   "metadata": {},
   "outputs": [],
   "source": [
    "csv_name = \"rag_eval_results.csv\" if use_rag else \"no_rag_eval_results.csv\"\n",
    "\n",
    "csv  = Path().resolve() / csv_name\n",
    "if os.path.exists(csv):\n",
    "    df = pd.read_csv(csv)\n",
    "else :\n",
    "    df = pd.DataFrame(raw_pairs)\n",
    "\n",
    "df[\"support_doc_ids\"]  = df[\"question\"].map(lambda q: lookup[q][\"support_doc_ids\"])"
   ]
  },
  {
   "cell_type": "code",
   "execution_count": 22,
   "id": "3657c0e3",
   "metadata": {},
   "outputs": [
    {
     "name": "stdout",
     "output_type": "stream",
     "text": [
      "Fichier CSV enregistré : rag_eval_results.csv\n"
     ]
    }
   ],
   "source": [
    "df.to_csv(csv, index=False)\n",
    "print(f\"Fichier CSV enregistré : {csv_name}\")"
   ]
  },
  {
   "cell_type": "code",
   "execution_count": 23,
   "id": "b11e54d4",
   "metadata": {},
   "outputs": [
    {
     "name": "stdout",
     "output_type": "stream",
     "text": [
      "Exécution du chatbot pour générer les prédictions...\n"
     ]
    },
    {
     "name": "stderr",
     "output_type": "stream",
     "text": [
      "  0%|          | 0/80 [00:00<?, ?it/s]"
     ]
    },
    {
     "name": "stdout",
     "output_type": "stream",
     "text": [
      "Erreur lors de l'appel à l'API : Error response 429 while fetching https://api.mistral.ai/v1/chat/completions: {\"message\":\"Requests rate limit exceeded\"}\n"
     ]
    },
    {
     "name": "stderr",
     "output_type": "stream",
     "text": [
      " 18%|█▊        | 14/80 [02:08<06:59,  6.36s/it]"
     ]
    },
    {
     "name": "stdout",
     "output_type": "stream",
     "text": [
      "Erreur lors de l'appel à l'API : Error response 429 while fetching https://api.mistral.ai/v1/chat/completions: {\"message\":\"Requests rate limit exceeded\"}\n"
     ]
    },
    {
     "name": "stderr",
     "output_type": "stream",
     "text": [
      " 24%|██▍       | 19/80 [02:55<13:30, 13.28s/it]"
     ]
    },
    {
     "name": "stdout",
     "output_type": "stream",
     "text": [
      "Erreur lors de l'appel à l'API : Error response 429 while fetching https://api.mistral.ai/v1/chat/completions: {\"message\":\"Requests rate limit exceeded\"}\n"
     ]
    },
    {
     "name": "stderr",
     "output_type": "stream",
     "text": [
      " 28%|██▊       | 22/80 [03:34<14:50, 15.35s/it]"
     ]
    },
    {
     "name": "stdout",
     "output_type": "stream",
     "text": [
      "Erreur lors de l'appel à l'API : Error response 429 while fetching https://api.mistral.ai/v1/chat/completions: {\"message\":\"Requests rate limit exceeded\"}\n"
     ]
    },
    {
     "name": "stderr",
     "output_type": "stream",
     "text": [
      " 35%|███▌      | 28/80 [05:16<08:42, 10.05s/it]"
     ]
    },
    {
     "name": "stdout",
     "output_type": "stream",
     "text": [
      "Erreur lors de l'appel à l'API : Error response 429 while fetching https://api.mistral.ai/v1/chat/completions: {\"message\":\"Requests rate limit exceeded\"}\n",
      "Erreur lors de l'appel à l'API : Error response 429 while fetching https://api.mistral.ai/v1/chat/completions: {\"message\":\"Requests rate limit exceeded\"}\n",
      "Erreur lors de l'appel à l'API : Error response 429 while fetching https://api.mistral.ai/v1/chat/completions: {\"message\":\"Requests rate limit exceeded\"}\n"
     ]
    },
    {
     "name": "stderr",
     "output_type": "stream",
     "text": [
      " 36%|███▋      | 29/80 [05:18<06:32,  7.69s/it]"
     ]
    },
    {
     "name": "stdout",
     "output_type": "stream",
     "text": [
      "Erreur lors de l'appel à l'API : Error response 429 while fetching https://api.mistral.ai/v1/chat/completions: {\"message\":\"Requests rate limit exceeded\"}\n"
     ]
    },
    {
     "name": "stderr",
     "output_type": "stream",
     "text": [
      " 42%|████▎     | 34/80 [06:58<08:42, 11.36s/it]"
     ]
    },
    {
     "name": "stdout",
     "output_type": "stream",
     "text": [
      "Erreur lors de l'appel à l'API : Error response 429 while fetching https://api.mistral.ai/v1/chat/completions: {\"message\":\"Requests rate limit exceeded\"}\n",
      "Erreur lors de l'appel à l'API : Error response 429 while fetching https://api.mistral.ai/v1/chat/completions: {\"message\":\"Requests rate limit exceeded\"}\n",
      "Erreur lors de l'appel à l'API : Error response 429 while fetching https://api.mistral.ai/v1/chat/completions: {\"message\":\"Requests rate limit exceeded\"}\n"
     ]
    },
    {
     "name": "stderr",
     "output_type": "stream",
     "text": [
      " 44%|████▍     | 35/80 [09:01<33:41, 44.93s/it]"
     ]
    },
    {
     "name": "stdout",
     "output_type": "stream",
     "text": [
      "Erreur lors de l'appel à l'API : Error response 429 while fetching https://api.mistral.ai/v1/chat/completions: {\"message\":\"Requests rate limit exceeded\"}\n",
      "Erreur lors de l'appel à l'API : Error response 429 while fetching https://api.mistral.ai/v1/chat/completions: {\"message\":\"Requests rate limit exceeded\"}\n"
     ]
    },
    {
     "name": "stderr",
     "output_type": "stream",
     "text": [
      " 46%|████▋     | 37/80 [10:05<27:25, 38.27s/it]"
     ]
    },
    {
     "name": "stdout",
     "output_type": "stream",
     "text": [
      "Erreur lors de l'appel à l'API : Error response 429 while fetching https://api.mistral.ai/v1/chat/completions: {\"message\":\"Requests rate limit exceeded\"}\n"
     ]
    },
    {
     "name": "stderr",
     "output_type": "stream",
     "text": [
      " 49%|████▉     | 39/80 [10:40<17:51, 26.15s/it]"
     ]
    },
    {
     "name": "stdout",
     "output_type": "stream",
     "text": [
      "Erreur lors de l'appel à l'API : Error response 429 while fetching https://api.mistral.ai/v1/chat/completions: {\"message\":\"Requests rate limit exceeded\"}\n"
     ]
    },
    {
     "name": "stderr",
     "output_type": "stream",
     "text": [
      " 50%|█████     | 40/80 [11:14<19:03, 28.59s/it]"
     ]
    },
    {
     "name": "stdout",
     "output_type": "stream",
     "text": [
      "Erreur lors de l'appel à l'API : Error response 429 while fetching https://api.mistral.ai/v1/chat/completions: {\"message\":\"Requests rate limit exceeded\"}\n"
     ]
    },
    {
     "name": "stderr",
     "output_type": "stream",
     "text": [
      " 57%|█████▊    | 46/80 [12:29<08:57, 15.81s/it]"
     ]
    },
    {
     "name": "stdout",
     "output_type": "stream",
     "text": [
      "Erreur lors de l'appel à l'API : Error response 429 while fetching https://api.mistral.ai/v1/chat/completions: {\"message\":\"Requests rate limit exceeded\"}\n",
      "Erreur lors de l'appel à l'API : Error response 429 while fetching https://api.mistral.ai/v1/chat/completions: {\"message\":\"Requests rate limit exceeded\"}\n"
     ]
    },
    {
     "name": "stderr",
     "output_type": "stream",
     "text": [
      " 59%|█████▉    | 47/80 [13:33<16:31, 30.05s/it]"
     ]
    },
    {
     "name": "stdout",
     "output_type": "stream",
     "text": [
      "Erreur lors de l'appel à l'API : Error response 429 while fetching https://api.mistral.ai/v1/chat/completions: {\"message\":\"Requests rate limit exceeded\"}\n"
     ]
    },
    {
     "name": "stderr",
     "output_type": "stream",
     "text": [
      " 65%|██████▌   | 52/80 [15:14<12:41, 27.19s/it]"
     ]
    },
    {
     "name": "stdout",
     "output_type": "stream",
     "text": [
      "Erreur lors de l'appel à l'API : Error response 429 while fetching https://api.mistral.ai/v1/chat/completions: {\"message\":\"Requests rate limit exceeded\"}\n",
      "Erreur lors de l'appel à l'API : Error response 429 while fetching https://api.mistral.ai/v1/chat/completions: {\"message\":\"Requests rate limit exceeded\"}\n"
     ]
    },
    {
     "name": "stderr",
     "output_type": "stream",
     "text": [
      " 66%|██████▋   | 53/80 [17:18<25:13, 56.05s/it]"
     ]
    },
    {
     "name": "stdout",
     "output_type": "stream",
     "text": [
      "Erreur lors de l'appel à l'API : Error response 429 while fetching https://api.mistral.ai/v1/chat/completions: {\"message\":\"Requests rate limit exceeded\"}\n"
     ]
    },
    {
     "name": "stderr",
     "output_type": "stream",
     "text": [
      " 72%|███████▎  | 58/80 [18:01<06:30, 17.76s/it]"
     ]
    },
    {
     "name": "stdout",
     "output_type": "stream",
     "text": [
      "Erreur lors de l'appel à l'API : Error response 429 while fetching https://api.mistral.ai/v1/chat/completions: {\"message\":\"Requests rate limit exceeded\"}\n",
      "Erreur lors de l'appel à l'API : Error response 429 while fetching https://api.mistral.ai/v1/chat/completions: {\"message\":\"Requests rate limit exceeded\"}\n"
     ]
    },
    {
     "name": "stderr",
     "output_type": "stream",
     "text": [
      " 74%|███████▍  | 59/80 [19:05<11:06, 31.76s/it]"
     ]
    },
    {
     "name": "stdout",
     "output_type": "stream",
     "text": [
      "Erreur lors de l'appel à l'API : Error response 429 while fetching https://api.mistral.ai/v1/chat/completions: {\"message\":\"Requests rate limit exceeded\"}\n"
     ]
    },
    {
     "name": "stderr",
     "output_type": "stream",
     "text": [
      " 75%|███████▌  | 60/80 [19:36<10:31, 31.57s/it]"
     ]
    },
    {
     "name": "stdout",
     "output_type": "stream",
     "text": [
      "Erreur lors de l'appel à l'API : Error response 429 while fetching https://api.mistral.ai/v1/chat/completions: {\"message\":\"Requests rate limit exceeded\"}\n"
     ]
    },
    {
     "name": "stderr",
     "output_type": "stream",
     "text": [
      " 76%|███████▋  | 61/80 [20:10<10:14, 32.34s/it]"
     ]
    },
    {
     "name": "stdout",
     "output_type": "stream",
     "text": [
      "Erreur lors de l'appel à l'API : Error response 429 while fetching https://api.mistral.ai/v1/chat/completions: {\"message\":\"Requests rate limit exceeded\"}\n",
      "Erreur lors de l'appel à l'API : Error response 429 while fetching https://api.mistral.ai/v1/chat/completions: {\"message\":\"Requests rate limit exceeded\"}\n",
      "Erreur lors de l'appel à l'API : Error response 429 while fetching https://api.mistral.ai/v1/chat/completions: {\"message\":\"Requests rate limit exceeded\"}\n",
      "Erreur lors de l'appel à l'API : Error response 429 while fetching https://api.mistral.ai/v1/chat/completions: {\"message\":\"Requests rate limit exceeded\"}\n"
     ]
    },
    {
     "name": "stderr",
     "output_type": "stream",
     "text": [
      " 78%|███████▊  | 62/80 [22:16<18:07, 60.42s/it]"
     ]
    },
    {
     "name": "stdout",
     "output_type": "stream",
     "text": [
      "Erreur lors de l'appel à l'API : Error response 429 while fetching https://api.mistral.ai/v1/chat/completions: {\"message\":\"Requests rate limit exceeded\"}\n"
     ]
    },
    {
     "name": "stderr",
     "output_type": "stream",
     "text": [
      " 79%|███████▉  | 63/80 [22:48<14:42, 51.93s/it]"
     ]
    },
    {
     "name": "stdout",
     "output_type": "stream",
     "text": [
      "Erreur lors de l'appel à l'API : Error response 429 while fetching https://api.mistral.ai/v1/chat/completions: {\"object\":\"error\",\"message\":\"Service tier capacity exceeded for this model.\",\"type\":\"invalid_request_error\",\"param\":null,\"code\":null}\n",
      "Erreur lors de l'appel à l'API : Error response 429 while fetching https://api.mistral.ai/v1/chat/completions: {\"message\":\"Requests rate limit exceeded\"}\n"
     ]
    },
    {
     "name": "stderr",
     "output_type": "stream",
     "text": [
      " 80%|████████  | 64/80 [23:20<12:14, 45.88s/it]"
     ]
    },
    {
     "name": "stdout",
     "output_type": "stream",
     "text": [
      "Erreur lors de l'appel à l'API : Error response 429 while fetching https://api.mistral.ai/v1/chat/completions: {\"message\":\"Requests rate limit exceeded\"}\n"
     ]
    },
    {
     "name": "stderr",
     "output_type": "stream",
     "text": [
      " 84%|████████▍ | 67/80 [24:33<06:18, 29.12s/it]"
     ]
    },
    {
     "name": "stdout",
     "output_type": "stream",
     "text": [
      "Erreur lors de l'appel à l'API : Error response 429 while fetching https://api.mistral.ai/v1/chat/completions: {\"message\":\"Requests rate limit exceeded\"}\n"
     ]
    },
    {
     "name": "stderr",
     "output_type": "stream",
     "text": [
      " 91%|█████████▏| 73/80 [25:43<00:58,  8.42s/it]"
     ]
    },
    {
     "name": "stdout",
     "output_type": "stream",
     "text": [
      "Erreur lors de l'appel à l'API : Error response 429 while fetching https://api.mistral.ai/v1/chat/completions: {\"message\":\"Requests rate limit exceeded\"}\n",
      "Erreur lors de l'appel à l'API : Error response 429 while fetching https://api.mistral.ai/v1/chat/completions: {\"message\":\"Requests rate limit exceeded\"}\n"
     ]
    },
    {
     "name": "stderr",
     "output_type": "stream",
     "text": [
      " 96%|█████████▋| 77/80 [26:28<00:23,  7.71s/it]"
     ]
    },
    {
     "name": "stdout",
     "output_type": "stream",
     "text": [
      "Erreur lors de l'appel à l'API : Error response 429 while fetching https://api.mistral.ai/v1/chat/completions: {\"message\":\"Requests rate limit exceeded\"}\n"
     ]
    },
    {
     "name": "stderr",
     "output_type": "stream",
     "text": [
      " 98%|█████████▊| 78/80 [27:00<00:30, 15.03s/it]"
     ]
    },
    {
     "name": "stdout",
     "output_type": "stream",
     "text": [
      "Erreur lors de l'appel à l'API : Error response 429 while fetching https://api.mistral.ai/v1/chat/completions: {\"message\":\"Requests rate limit exceeded\"}\n"
     ]
    },
    {
     "name": "stderr",
     "output_type": "stream",
     "text": [
      "100%|██████████| 80/80 [27:04<00:00, 20.30s/it]\n"
     ]
    }
   ],
   "source": [
    "print(\"Exécution du chatbot pour générer les prédictions...\")\n",
    "chat_history = []\n",
    "predictions, latencies = [], []\n",
    "for row in tqdm(df.itertuples(), total=len(df)):\n",
    "        if use_rag:\n",
    "                start = time.time()\n",
    "                result = rag_get_response(row.question)\n",
    "        else :\n",
    "                start = time.time()\n",
    "                result = no_rag_get_response(row.question)\n",
    "        latencies.append(time.time() - start)\n",
    "        predictions.append(result)"
   ]
  },
  {
   "cell_type": "code",
   "execution_count": 24,
   "id": "8f7cf922",
   "metadata": {},
   "outputs": [],
   "source": [
    "df['prediction'] = predictions\n",
    "df['latency'] = latencies"
   ]
  },
  {
   "cell_type": "code",
   "execution_count": 25,
   "id": "9f693e9a",
   "metadata": {},
   "outputs": [
    {
     "name": "stdout",
     "output_type": "stream",
     "text": [
      "\n",
      "Résultats sauvegardés dans : rag_eval_results.csv\n"
     ]
    }
   ],
   "source": [
    "# Save results to CSV\n",
    "df.to_csv(csv_name, index=False, encoding=\"utf-8\")\n",
    "print(f\"\\nRésultats sauvegardés dans : {csv_name}\")"
   ]
  },
  {
   "cell_type": "code",
   "execution_count": 26,
   "id": "d17d72ee",
   "metadata": {},
   "outputs": [
    {
     "name": "stdout",
     "output_type": "stream",
     "text": [
      "Configuration des prompts d'évaluation...\n"
     ]
    }
   ],
   "source": [
    "print(\"Configuration des prompts d'évaluation...\")\n",
    "class EvalNote(TypedDict):\n",
    "    note:        Annotated[float,  \"de 0 à 5\"]\n",
    "    explication: Annotated[str,    \"raisonnement concis\"]\n",
    "\n",
    "model_strict = model.with_structured_output(EvalNote, strict=True)\n",
    "\n",
    "\n",
    "correctness_prompt = PromptTemplate.from_template(\"\"\"\n",
    "Tu es un professeur qui note la justesse factuelle.\n",
    "Donne une note de 0 (totalement faux) à 5 (parfaitement correct).\n",
    "Réponds **obligatoirement** au format JSON suivant :\n",
    "\n",
    "{{\n",
    "  \"note\": <nombre>,\n",
    "  \"explication\": \"<justification courte>\"\n",
    "}}\n",
    "\n",
    "QUESTION :\n",
    "{question}\n",
    "\n",
    "RÉPONSE ATTENDUE :\n",
    "{reference}\n",
    "\n",
    "RÉPONSE DU CHATBOT :\n",
    "{prediction}\n",
    "\n",
    "JSON :\n",
    "\"\"\")\n",
    "\n",
    "relevance_prompt = PromptTemplate.from_template(\"\"\"\n",
    "Tu es un professeur. Donne une note de 0 (hors-sujet) à 5 (parfaitement pertinent).\n",
    "Réponds **obligatoirement** au format JSON suivant :\n",
    "\n",
    "{{\n",
    "  \"note\": <nombre>,\n",
    "  \"explication\": \"<justification courte>\"\n",
    "}}\n",
    "\n",
    "QUESTION :\n",
    "{question}\n",
    "\n",
    "RÉPONSE DU CHATBOT :\n",
    "{prediction}\n",
    "\n",
    "JSON :\n",
    "\"\"\")\n",
    "\n",
    "faithfulness_prompt = PromptTemplate.from_template(\"\"\"\n",
    "Tu es un évaluateur. Les informations de la réponse proviennent-elles bien des documents ?\n",
    "Donne une note de 0 (hallucination complète) à 5 (entièrement fondé sur le contexte).\n",
    "Réponds **obligatoirement** au format JSON suivant :\n",
    "\n",
    "{{\n",
    "  \"note\": <nombre>,\n",
    "  \"explication\": \"<justification courte>\"\n",
    "}}\n",
    "                                                   \n",
    "DOCUMENTS :\n",
    "{docs}\n",
    "\n",
    "RÉPONSE DU CHATBOT :\n",
    "{prediction}\n",
    "\n",
    "JSON :\n",
    "\"\"\")"
   ]
  },
  {
   "cell_type": "code",
   "execution_count": 27,
   "id": "a9deee4e",
   "metadata": {},
   "outputs": [
    {
     "name": "stdout",
     "output_type": "stream",
     "text": [
      "Initialisation des chaînes LLM pour l'évaluation...\n"
     ]
    }
   ],
   "source": [
    "print(\"Initialisation des chaînes LLM pour l'évaluation...\")\n",
    "correctness_chain  = correctness_prompt  | model_strict\n",
    "relevance_chain    = relevance_prompt    | model_strict\n",
    "faithfulness_chain = faithfulness_prompt | model_strict"
   ]
  },
  {
   "cell_type": "code",
   "execution_count": 28,
   "id": "7073ccb1",
   "metadata": {},
   "outputs": [
    {
     "name": "stdout",
     "output_type": "stream",
     "text": [
      "Évaluation des réponses du chatbot...\n"
     ]
    },
    {
     "name": "stderr",
     "output_type": "stream",
     "text": [
      "Évaluation:   0%|          | 0/80 [00:00<?, ?it/s]"
     ]
    },
    {
     "name": "stderr",
     "output_type": "stream",
     "text": [
      "Évaluation:   1%|▏         | 1/80 [00:26<35:08, 26.69s/it]"
     ]
    },
    {
     "name": "stdout",
     "output_type": "stream",
     "text": [
      "Erreur lors de l'appel à l'API : Error response 429 while fetching https://api.mistral.ai/v1/chat/completions: {\"message\":\"Requests rate limit exceeded\"}\n",
      "Erreur lors de l'appel à l'API : Error response 429 while fetching https://api.mistral.ai/v1/chat/completions: {\"message\":\"Requests rate limit exceeded\"}\n",
      "Erreur lors de l'appel à l'API : Error response 429 while fetching https://api.mistral.ai/v1/chat/completions: {\"message\":\"Requests rate limit exceeded\"}\n",
      "Erreur lors de l'appel à l'API : Error response 429 while fetching https://api.mistral.ai/v1/chat/completions: {\"message\":\"Requests rate limit exceeded\"}\n",
      "Erreur lors de l'appel à l'API : Error response 429 while fetching https://api.mistral.ai/v1/chat/completions: {\"message\":\"Requests rate limit exceeded\"}\n",
      "Erreur lors de l'appel à l'API : Error response 429 while fetching https://api.mistral.ai/v1/chat/completions: {\"message\":\"Requests rate limit exceeded\"}\n",
      "Erreur lors de l'appel à l'API : Error response 429 while fetching https://api.mistral.ai/v1/chat/completions: {\"message\":\"Requests rate limit exceeded\"}\n",
      "Erreur lors de l'appel à l'API : Error response 429 while fetching https://api.mistral.ai/v1/chat/completions: {\"message\":\"Requests rate limit exceeded\"}\n"
     ]
    },
    {
     "name": "stderr",
     "output_type": "stream",
     "text": [
      "Évaluation:   4%|▍         | 3/80 [00:45<16:29, 12.85s/it]"
     ]
    },
    {
     "name": "stdout",
     "output_type": "stream",
     "text": [
      "Erreur lors de l'appel à l'API : Error response 429 while fetching https://api.mistral.ai/v1/chat/completions: {\"message\":\"Requests rate limit exceeded\"}\n",
      "Erreur lors de l'appel à l'API : Error response 429 while fetching https://api.mistral.ai/v1/chat/completions: {\"message\":\"Requests rate limit exceeded\"}\n"
     ]
    },
    {
     "name": "stderr",
     "output_type": "stream",
     "text": [
      "Évaluation:   6%|▋         | 5/80 [01:13<16:12, 12.96s/it]"
     ]
    },
    {
     "name": "stdout",
     "output_type": "stream",
     "text": [
      "Erreur lors de l'appel à l'API : Error response 429 while fetching https://api.mistral.ai/v1/chat/completions: {\"message\":\"Requests rate limit exceeded\"}\n",
      "Erreur lors de l'appel à l'API : Error response 429 while fetching https://api.mistral.ai/v1/chat/completions: {\"message\":\"Requests rate limit exceeded\"}\n",
      "Erreur lors de l'appel à l'API : Error response 429 while fetching https://api.mistral.ai/v1/chat/completions: {\"message\":\"Requests rate limit exceeded\"}\n"
     ]
    },
    {
     "name": "stderr",
     "output_type": "stream",
     "text": [
      "Évaluation:   8%|▊         | 6/80 [01:22<13:56, 11.30s/it]"
     ]
    },
    {
     "name": "stdout",
     "output_type": "stream",
     "text": [
      "Erreur lors de l'appel à l'API : Error response 429 while fetching https://api.mistral.ai/v1/chat/completions: {\"message\":\"Requests rate limit exceeded\"}\n",
      "Erreur lors de l'appel à l'API : Error response 429 while fetching https://api.mistral.ai/v1/chat/completions: {\"message\":\"Requests rate limit exceeded\"}\n",
      "Erreur lors de l'appel à l'API : Error response 429 while fetching https://api.mistral.ai/v1/chat/completions: {\"message\":\"Requests rate limit exceeded\"}\n",
      "Erreur lors de l'appel à l'API : Error response 429 while fetching https://api.mistral.ai/v1/chat/completions: {\"message\":\"Requests rate limit exceeded\"}\n",
      "Erreur lors de l'appel à l'API : Error response 429 while fetching https://api.mistral.ai/v1/chat/completions: {\"message\":\"Requests rate limit exceeded\"}\n",
      "Erreur lors de l'appel à l'API : Error response 429 while fetching https://api.mistral.ai/v1/chat/completions: {\"message\":\"Requests rate limit exceeded\"}\n",
      "Erreur lors de l'appel à l'API : Error response 429 while fetching https://api.mistral.ai/v1/chat/completions: {\"message\":\"Requests rate limit exceeded\"}\n",
      "Erreur lors de l'appel à l'API : Error response 429 while fetching https://api.mistral.ai/v1/chat/completions: {\"message\":\"Requests rate limit exceeded\"}\n",
      "Erreur lors de l'appel à l'API : Error response 429 while fetching https://api.mistral.ai/v1/chat/completions: {\"message\":\"Requests rate limit exceeded\"}\n",
      "Erreur lors de l'appel à l'API : Error response 429 while fetching https://api.mistral.ai/v1/chat/completions: {\"message\":\"Requests rate limit exceeded\"}\n",
      "Erreur lors de l'appel à l'API : Error response 429 while fetching https://api.mistral.ai/v1/chat/completions: {\"message\":\"Requests rate limit exceeded\"}\n",
      "Erreur lors de l'appel à l'API : Error response 429 while fetching https://api.mistral.ai/v1/chat/completions: {\"message\":\"Requests rate limit exceeded\"}\n",
      "Erreur lors de l'appel à l'API : Error response 429 while fetching https://api.mistral.ai/v1/chat/completions: {\"message\":\"Requests rate limit exceeded\"}\n",
      "Erreur lors de l'appel à l'API : Error response 429 while fetching https://api.mistral.ai/v1/chat/completions: {\"message\":\"Requests rate limit exceeded\"}\n",
      "Erreur lors de l'appel à l'API : Error response 429 while fetching https://api.mistral.ai/v1/chat/completions: {\"message\":\"Requests rate limit exceeded\"}\n",
      "Erreur lors de l'appel à l'API : Error response 429 while fetching https://api.mistral.ai/v1/chat/completions: {\"message\":\"Requests rate limit exceeded\"}\n"
     ]
    },
    {
     "name": "stderr",
     "output_type": "stream",
     "text": [
      "Évaluation:  10%|█         | 8/80 [01:47<14:23, 12.00s/it]"
     ]
    },
    {
     "name": "stdout",
     "output_type": "stream",
     "text": [
      "Erreur lors de l'appel à l'API : Error response 429 while fetching https://api.mistral.ai/v1/chat/completions: {\"message\":\"Requests rate limit exceeded\"}\n",
      "Erreur lors de l'appel à l'API : Error response 429 while fetching https://api.mistral.ai/v1/chat/completions: {\"message\":\"Requests rate limit exceeded\"}\n",
      "Erreur lors de l'appel à l'API : Error response 429 while fetching https://api.mistral.ai/v1/chat/completions: {\"message\":\"Requests rate limit exceeded\"}\n"
     ]
    },
    {
     "name": "stderr",
     "output_type": "stream",
     "text": [
      "Évaluation:  11%|█▏        | 9/80 [01:55<12:42, 10.74s/it]"
     ]
    },
    {
     "name": "stdout",
     "output_type": "stream",
     "text": [
      "Erreur lors de l'appel à l'API : Error response 429 while fetching https://api.mistral.ai/v1/chat/completions: {\"message\":\"Requests rate limit exceeded\"}\n"
     ]
    },
    {
     "name": "stderr",
     "output_type": "stream",
     "text": [
      "Évaluation:  12%|█▎        | 10/80 [02:03<11:24,  9.78s/it]"
     ]
    },
    {
     "name": "stdout",
     "output_type": "stream",
     "text": [
      "Erreur lors de l'appel à l'API : Error response 429 while fetching https://api.mistral.ai/v1/chat/completions: {\"message\":\"Requests rate limit exceeded\"}\n",
      "Erreur lors de l'appel à l'API : Error response 429 while fetching https://api.mistral.ai/v1/chat/completions: {\"message\":\"Requests rate limit exceeded\"}\n",
      "Erreur lors de l'appel à l'API : Error response 429 while fetching https://api.mistral.ai/v1/chat/completions: {\"message\":\"Requests rate limit exceeded\"}\n",
      "Erreur lors de l'appel à l'API : Error response 429 while fetching https://api.mistral.ai/v1/chat/completions: {\"message\":\"Requests rate limit exceeded\"}\n",
      "Erreur lors de l'appel à l'API : Error response 429 while fetching https://api.mistral.ai/v1/chat/completions: {\"message\":\"Requests rate limit exceeded\"}\n",
      "Erreur lors de l'appel à l'API : Error response 429 while fetching https://api.mistral.ai/v1/chat/completions: {\"message\":\"Requests rate limit exceeded\"}\n"
     ]
    },
    {
     "name": "stderr",
     "output_type": "stream",
     "text": [
      "Évaluation:  16%|█▋        | 13/80 [02:27<09:20,  8.36s/it]"
     ]
    },
    {
     "name": "stdout",
     "output_type": "stream",
     "text": [
      "Erreur lors de l'appel à l'API : Error response 429 while fetching https://api.mistral.ai/v1/chat/completions: {\"message\":\"Requests rate limit exceeded\"}\n"
     ]
    },
    {
     "name": "stderr",
     "output_type": "stream",
     "text": [
      "Évaluation:  18%|█▊        | 14/80 [02:35<09:00,  8.18s/it]"
     ]
    },
    {
     "name": "stdout",
     "output_type": "stream",
     "text": [
      "Erreur lors de l'appel à l'API : Error response 429 while fetching https://api.mistral.ai/v1/chat/completions: {\"message\":\"Requests rate limit exceeded\"}\n",
      "Erreur lors de l'appel à l'API : Error response 429 while fetching https://api.mistral.ai/v1/chat/completions: {\"message\":\"Requests rate limit exceeded\"}\n"
     ]
    },
    {
     "name": "stderr",
     "output_type": "stream",
     "text": [
      "Évaluation:  24%|██▍       | 19/80 [04:00<20:22, 20.03s/it]"
     ]
    },
    {
     "name": "stdout",
     "output_type": "stream",
     "text": [
      "Erreur lors de l'appel à l'API : Error response 429 while fetching https://api.mistral.ai/v1/chat/completions: {\"message\":\"Requests rate limit exceeded\"}\n",
      "Erreur lors de l'appel à l'API : Error response 429 while fetching https://api.mistral.ai/v1/chat/completions: {\"message\":\"Requests rate limit exceeded\"}\n",
      "Erreur lors de l'appel à l'API : Error response 429 while fetching https://api.mistral.ai/v1/chat/completions: {\"message\":\"Requests rate limit exceeded\"}\n",
      "Erreur lors de l'appel à l'API : Error response 429 while fetching https://api.mistral.ai/v1/chat/completions: {\"message\":\"Requests rate limit exceeded\"}\n"
     ]
    },
    {
     "name": "stderr",
     "output_type": "stream",
     "text": [
      "Évaluation:  26%|██▋       | 21/80 [04:17<13:42, 13.95s/it]"
     ]
    },
    {
     "name": "stdout",
     "output_type": "stream",
     "text": [
      "Erreur lors de l'appel à l'API : Error response 429 while fetching https://api.mistral.ai/v1/chat/completions: {\"message\":\"Requests rate limit exceeded\"}\n"
     ]
    },
    {
     "name": "stderr",
     "output_type": "stream",
     "text": [
      "Évaluation:  31%|███▏      | 25/80 [04:55<09:28, 10.34s/it]"
     ]
    },
    {
     "name": "stdout",
     "output_type": "stream",
     "text": [
      "Erreur lors de l'appel à l'API : Error response 429 while fetching https://api.mistral.ai/v1/chat/completions: {\"message\":\"Requests rate limit exceeded\"}\n"
     ]
    },
    {
     "name": "stderr",
     "output_type": "stream",
     "text": [
      "Évaluation:  34%|███▍      | 27/80 [05:15<08:41,  9.84s/it]"
     ]
    },
    {
     "name": "stdout",
     "output_type": "stream",
     "text": [
      "Erreur lors de l'appel à l'API : Error response 429 while fetching https://api.mistral.ai/v1/chat/completions: {\"message\":\"Requests rate limit exceeded\"}\n",
      "Erreur lors de l'appel à l'API : Error response 429 while fetching https://api.mistral.ai/v1/chat/completions: {\"message\":\"Requests rate limit exceeded\"}\n"
     ]
    },
    {
     "name": "stderr",
     "output_type": "stream",
     "text": [
      "Évaluation:  39%|███▉      | 31/80 [06:07<09:15, 11.34s/it]"
     ]
    },
    {
     "name": "stdout",
     "output_type": "stream",
     "text": [
      "Erreur lors de l'appel à l'API : Error response 429 while fetching https://api.mistral.ai/v1/chat/completions: {\"message\":\"Requests rate limit exceeded\"}\n",
      "Erreur lors de l'appel à l'API : Error response 429 while fetching https://api.mistral.ai/v1/chat/completions: {\"message\":\"Requests rate limit exceeded\"}\n",
      "Erreur lors de l'appel à l'API : Error response 429 while fetching https://api.mistral.ai/v1/chat/completions: {\"message\":\"Requests rate limit exceeded\"}\n"
     ]
    },
    {
     "name": "stderr",
     "output_type": "stream",
     "text": [
      "Évaluation:  40%|████      | 32/80 [06:16<08:30, 10.65s/it]"
     ]
    },
    {
     "name": "stdout",
     "output_type": "stream",
     "text": [
      "Erreur lors de l'appel à l'API : Error response 429 while fetching https://api.mistral.ai/v1/chat/completions: {\"message\":\"Requests rate limit exceeded\"}\n",
      "Erreur lors de l'appel à l'API : Error response 429 while fetching https://api.mistral.ai/v1/chat/completions: {\"message\":\"Requests rate limit exceeded\"}\n",
      "Erreur lors de l'appel à l'API : Error response 429 while fetching https://api.mistral.ai/v1/chat/completions: {\"message\":\"Requests rate limit exceeded\"}\n",
      "Erreur lors de l'appel à l'API : Error response 429 while fetching https://api.mistral.ai/v1/chat/completions: {\"message\":\"Requests rate limit exceeded\"}\n"
     ]
    },
    {
     "name": "stderr",
     "output_type": "stream",
     "text": [
      "Évaluation:  44%|████▍     | 35/80 [06:42<06:41,  8.92s/it]"
     ]
    },
    {
     "name": "stdout",
     "output_type": "stream",
     "text": [
      "Erreur lors de l'appel à l'API : Error response 429 while fetching https://api.mistral.ai/v1/chat/completions: {\"message\":\"Requests rate limit exceeded\"}\n",
      "Erreur lors de l'appel à l'API : Error response 429 while fetching https://api.mistral.ai/v1/chat/completions: {\"message\":\"Requests rate limit exceeded\"}\n",
      "Erreur lors de l'appel à l'API : Error response 429 while fetching https://api.mistral.ai/v1/chat/completions: {\"message\":\"Requests rate limit exceeded\"}\n"
     ]
    },
    {
     "name": "stderr",
     "output_type": "stream",
     "text": [
      "Évaluation:  46%|████▋     | 37/80 [06:55<05:28,  7.63s/it]"
     ]
    },
    {
     "name": "stdout",
     "output_type": "stream",
     "text": [
      "Erreur lors de l'appel à l'API : Error response 429 while fetching https://api.mistral.ai/v1/chat/completions: {\"message\":\"Requests rate limit exceeded\"}\n",
      "Erreur lors de l'appel à l'API : Error response 429 while fetching https://api.mistral.ai/v1/chat/completions: {\"message\":\"Requests rate limit exceeded\"}\n",
      "Erreur lors de l'appel à l'API : Error response 429 while fetching https://api.mistral.ai/v1/chat/completions: {\"message\":\"Requests rate limit exceeded\"}\n",
      "Erreur lors de l'appel à l'API : Error response 429 while fetching https://api.mistral.ai/v1/chat/completions: {\"message\":\"Requests rate limit exceeded\"}\n",
      "Erreur lors de l'appel à l'API : Error response 429 while fetching https://api.mistral.ai/v1/chat/completions: {\"message\":\"Requests rate limit exceeded\"}\n",
      "Erreur lors de l'appel à l'API : Error response 429 while fetching https://api.mistral.ai/v1/chat/completions: {\"message\":\"Requests rate limit exceeded\"}\n",
      "Erreur lors de l'appel à l'API : Error response 429 while fetching https://api.mistral.ai/v1/chat/completions: {\"message\":\"Requests rate limit exceeded\"}\n",
      "Erreur lors de l'appel à l'API : Error response 429 while fetching https://api.mistral.ai/v1/chat/completions: {\"message\":\"Requests rate limit exceeded\"}\n",
      "Erreur lors de l'appel à l'API : Error response 429 while fetching https://api.mistral.ai/v1/chat/completions: {\"message\":\"Requests rate limit exceeded\"}\n",
      "Erreur lors de l'appel à l'API : Error response 429 while fetching https://api.mistral.ai/v1/chat/completions: {\"message\":\"Requests rate limit exceeded\"}\n",
      "Erreur lors de l'appel à l'API : Error response 429 while fetching https://api.mistral.ai/v1/chat/completions: {\"message\":\"Requests rate limit exceeded\"}\n"
     ]
    },
    {
     "name": "stderr",
     "output_type": "stream",
     "text": [
      "Évaluation:  48%|████▊     | 38/80 [07:04<05:47,  8.28s/it]"
     ]
    },
    {
     "name": "stdout",
     "output_type": "stream",
     "text": [
      "Erreur lors de l'appel à l'API : Error response 429 while fetching https://api.mistral.ai/v1/chat/completions: {\"message\":\"Requests rate limit exceeded\"}\n"
     ]
    },
    {
     "name": "stderr",
     "output_type": "stream",
     "text": [
      "Évaluation:  56%|█████▋    | 45/80 [08:52<06:04, 10.41s/it]"
     ]
    },
    {
     "name": "stdout",
     "output_type": "stream",
     "text": [
      "Erreur lors de l'appel à l'API : Error response 429 while fetching https://api.mistral.ai/v1/chat/completions: {\"message\":\"Requests rate limit exceeded\"}\n"
     ]
    },
    {
     "name": "stderr",
     "output_type": "stream",
     "text": [
      "Évaluation:  59%|█████▉    | 47/80 [09:04<04:26,  8.08s/it]"
     ]
    },
    {
     "name": "stdout",
     "output_type": "stream",
     "text": [
      "Erreur lors de l'appel à l'API : Error response 429 while fetching https://api.mistral.ai/v1/chat/completions: {\"message\":\"Requests rate limit exceeded\"}\n"
     ]
    },
    {
     "name": "stderr",
     "output_type": "stream",
     "text": [
      "Évaluation:  66%|██████▋   | 53/80 [10:00<03:55,  8.71s/it]"
     ]
    },
    {
     "name": "stdout",
     "output_type": "stream",
     "text": [
      "Erreur lors de l'appel à l'API : Error response 429 while fetching https://api.mistral.ai/v1/chat/completions: {\"message\":\"Requests rate limit exceeded\"}\n"
     ]
    },
    {
     "name": "stderr",
     "output_type": "stream",
     "text": [
      "Évaluation:  68%|██████▊   | 54/80 [10:13<04:21, 10.05s/it]"
     ]
    },
    {
     "name": "stdout",
     "output_type": "stream",
     "text": [
      "Erreur lors de l'appel à l'API : Error response 429 while fetching https://api.mistral.ai/v1/chat/completions: {\"message\":\"Requests rate limit exceeded\"}\n",
      "Erreur lors de l'appel à l'API : Error response 429 while fetching https://api.mistral.ai/v1/chat/completions: {\"message\":\"Requests rate limit exceeded\"}\n",
      "Erreur lors de l'appel à l'API : Error response 429 while fetching https://api.mistral.ai/v1/chat/completions: {\"message\":\"Requests rate limit exceeded\"}\n"
     ]
    },
    {
     "name": "stderr",
     "output_type": "stream",
     "text": [
      "Évaluation:  70%|███████   | 56/80 [10:49<05:13, 13.08s/it]"
     ]
    },
    {
     "name": "stdout",
     "output_type": "stream",
     "text": [
      "Erreur lors de l'appel à l'API : Error response 429 while fetching https://api.mistral.ai/v1/chat/completions: {\"message\":\"Requests rate limit exceeded\"}\n",
      "Erreur lors de l'appel à l'API : Error response 429 while fetching https://api.mistral.ai/v1/chat/completions: {\"message\":\"Requests rate limit exceeded\"}\n",
      "Erreur lors de l'appel à l'API : Error response 429 while fetching https://api.mistral.ai/v1/chat/completions: {\"message\":\"Requests rate limit exceeded\"}\n"
     ]
    },
    {
     "name": "stderr",
     "output_type": "stream",
     "text": [
      "Évaluation:  71%|███████▏  | 57/80 [10:53<03:57, 10.35s/it]"
     ]
    },
    {
     "name": "stdout",
     "output_type": "stream",
     "text": [
      "Erreur lors de l'appel à l'API : Error response 429 while fetching https://api.mistral.ai/v1/chat/completions: {\"message\":\"Requests rate limit exceeded\"}\n",
      "Erreur lors de l'appel à l'API : Error response 429 while fetching https://api.mistral.ai/v1/chat/completions: {\"message\":\"Requests rate limit exceeded\"}\n",
      "Erreur lors de l'appel à l'API : Error response 429 while fetching https://api.mistral.ai/v1/chat/completions: {\"message\":\"Requests rate limit exceeded\"}\n",
      "Erreur lors de l'appel à l'API : Error response 429 while fetching https://api.mistral.ai/v1/chat/completions: {\"message\":\"Requests rate limit exceeded\"}\n",
      "Erreur lors de l'appel à l'API : Error response 429 while fetching https://api.mistral.ai/v1/chat/completions: {\"message\":\"Requests rate limit exceeded\"}\n",
      "Erreur lors de l'appel à l'API : Error response 429 while fetching https://api.mistral.ai/v1/chat/completions: {\"message\":\"Requests rate limit exceeded\"}\n",
      "Erreur lors de l'appel à l'API : Error response 429 while fetching https://api.mistral.ai/v1/chat/completions: {\"message\":\"Requests rate limit exceeded\"}\n"
     ]
    },
    {
     "name": "stderr",
     "output_type": "stream",
     "text": [
      "Évaluation:  74%|███████▍  | 59/80 [11:40<05:22, 15.35s/it]"
     ]
    },
    {
     "name": "stdout",
     "output_type": "stream",
     "text": [
      "Erreur lors de l'appel à l'API : Error response 429 while fetching https://api.mistral.ai/v1/chat/completions: {\"message\":\"Requests rate limit exceeded\"}\n"
     ]
    },
    {
     "name": "stderr",
     "output_type": "stream",
     "text": [
      "Évaluation:  75%|███████▌  | 60/80 [11:45<04:09, 12.45s/it]"
     ]
    },
    {
     "name": "stdout",
     "output_type": "stream",
     "text": [
      "Erreur lors de l'appel à l'API : Error response 429 while fetching https://api.mistral.ai/v1/chat/completions: {\"message\":\"Requests rate limit exceeded\"}\n",
      "Erreur lors de l'appel à l'API : Error response 429 while fetching https://api.mistral.ai/v1/chat/completions: {\"message\":\"Requests rate limit exceeded\"}\n",
      "Erreur lors de l'appel à l'API : Error response 429 while fetching https://api.mistral.ai/v1/chat/completions: {\"message\":\"Requests rate limit exceeded\"}\n",
      "Erreur lors de l'appel à l'API : Error response 429 while fetching https://api.mistral.ai/v1/chat/completions: {\"message\":\"Requests rate limit exceeded\"}\n"
     ]
    },
    {
     "name": "stderr",
     "output_type": "stream",
     "text": [
      "Évaluation:  79%|███████▉  | 63/80 [12:10<02:44,  9.65s/it]"
     ]
    },
    {
     "name": "stdout",
     "output_type": "stream",
     "text": [
      "Erreur lors de l'appel à l'API : Error response 429 while fetching https://api.mistral.ai/v1/chat/completions: {\"message\":\"Requests rate limit exceeded\"}\n",
      "Erreur lors de l'appel à l'API : Error response 429 while fetching https://api.mistral.ai/v1/chat/completions: {\"message\":\"Requests rate limit exceeded\"}\n",
      "Erreur lors de l'appel à l'API : Error response 429 while fetching https://api.mistral.ai/v1/chat/completions: {\"message\":\"Requests rate limit exceeded\"}\n",
      "Erreur lors de l'appel à l'API : Error response 429 while fetching https://api.mistral.ai/v1/chat/completions: {\"message\":\"Requests rate limit exceeded\"}\n"
     ]
    },
    {
     "name": "stderr",
     "output_type": "stream",
     "text": [
      "Évaluation:  85%|████████▌ | 68/80 [13:44<03:23, 16.97s/it]"
     ]
    },
    {
     "name": "stdout",
     "output_type": "stream",
     "text": [
      "Erreur lors de l'appel à l'API : Error response 429 while fetching https://api.mistral.ai/v1/chat/completions: {\"message\":\"Requests rate limit exceeded\"}\n",
      "Erreur lors de l'appel à l'API : Error response 429 while fetching https://api.mistral.ai/v1/chat/completions: {\"message\":\"Requests rate limit exceeded\"}\n",
      "Erreur lors de l'appel à l'API : Error response 429 while fetching https://api.mistral.ai/v1/chat/completions: {\"message\":\"Requests rate limit exceeded\"}\n",
      "Erreur lors de l'appel à l'API : Error response 429 while fetching https://api.mistral.ai/v1/chat/completions: {\"message\":\"Requests rate limit exceeded\"}\n",
      "Erreur lors de l'appel à l'API : Error response 429 while fetching https://api.mistral.ai/v1/chat/completions: {\"message\":\"Requests rate limit exceeded\"}\n",
      "Erreur lors de l'appel à l'API : Error response 429 while fetching https://api.mistral.ai/v1/chat/completions: {\"message\":\"Requests rate limit exceeded\"}\n",
      "Erreur lors de l'appel à l'API : Error response 429 while fetching https://api.mistral.ai/v1/chat/completions: {\"message\":\"Requests rate limit exceeded\"}\n",
      "Erreur lors de l'appel à l'API : Error response 429 while fetching https://api.mistral.ai/v1/chat/completions: {\"message\":\"Requests rate limit exceeded\"}\n",
      "Erreur lors de l'appel à l'API : Error response 429 while fetching https://api.mistral.ai/v1/chat/completions: {\"message\":\"Requests rate limit exceeded\"}\n",
      "Erreur lors de l'appel à l'API : Error response 429 while fetching https://api.mistral.ai/v1/chat/completions: {\"message\":\"Requests rate limit exceeded\"}\n",
      "Erreur lors de l'appel à l'API : Error response 429 while fetching https://api.mistral.ai/v1/chat/completions: {\"message\":\"Requests rate limit exceeded\"}\n",
      "Erreur lors de l'appel à l'API : Error response 429 while fetching https://api.mistral.ai/v1/chat/completions: {\"message\":\"Requests rate limit exceeded\"}\n",
      "Erreur lors de l'appel à l'API : Error response 429 while fetching https://api.mistral.ai/v1/chat/completions: {\"message\":\"Requests rate limit exceeded\"}\n",
      "Erreur lors de l'appel à l'API : Error response 429 while fetching https://api.mistral.ai/v1/chat/completions: {\"message\":\"Requests rate limit exceeded\"}\n",
      "Erreur lors de l'appel à l'API : Error response 429 while fetching https://api.mistral.ai/v1/chat/completions: {\"message\":\"Requests rate limit exceeded\"}\n",
      "Erreur lors de l'appel à l'API : Error response 429 while fetching https://api.mistral.ai/v1/chat/completions: {\"message\":\"Requests rate limit exceeded\"}\n",
      "Erreur lors de l'appel à l'API : Error response 429 while fetching https://api.mistral.ai/v1/chat/completions: {\"message\":\"Requests rate limit exceeded\"}\n",
      "Erreur lors de l'appel à l'API : Error response 429 while fetching https://api.mistral.ai/v1/chat/completions: {\"message\":\"Requests rate limit exceeded\"}\n",
      "Erreur lors de l'appel à l'API : Error response 429 while fetching https://api.mistral.ai/v1/chat/completions: {\"message\":\"Requests rate limit exceeded\"}\n",
      "Erreur lors de l'appel à l'API : Error response 429 while fetching https://api.mistral.ai/v1/chat/completions: {\"message\":\"Requests rate limit exceeded\"}\n",
      "Erreur lors de l'appel à l'API : Error response 429 while fetching https://api.mistral.ai/v1/chat/completions: {\"message\":\"Requests rate limit exceeded\"}\n",
      "Erreur lors de l'appel à l'API : Error response 429 while fetching https://api.mistral.ai/v1/chat/completions: {\"message\":\"Requests rate limit exceeded\"}\n",
      "Erreur lors de l'appel à l'API : Error response 429 while fetching https://api.mistral.ai/v1/chat/completions: {\"message\":\"Requests rate limit exceeded\"}\n",
      "Erreur lors de l'appel à l'API : Error response 429 while fetching https://api.mistral.ai/v1/chat/completions: {\"message\":\"Requests rate limit exceeded\"}\n",
      "Erreur lors de l'appel à l'API : Error response 429 while fetching https://api.mistral.ai/v1/chat/completions: {\"message\":\"Requests rate limit exceeded\"}\n",
      "Erreur lors de l'appel à l'API : Error response 429 while fetching https://api.mistral.ai/v1/chat/completions: {\"message\":\"Requests rate limit exceeded\"}\n",
      "Erreur lors de l'appel à l'API : Error response 429 while fetching https://api.mistral.ai/v1/chat/completions: {\"message\":\"Requests rate limit exceeded\"}\n",
      "Erreur lors de l'appel à l'API : Error response 429 while fetching https://api.mistral.ai/v1/chat/completions: {\"message\":\"Requests rate limit exceeded\"}\n",
      "Erreur lors de l'appel à l'API : Error response 429 while fetching https://api.mistral.ai/v1/chat/completions: {\"message\":\"Requests rate limit exceeded\"}\n",
      "Erreur lors de l'appel à l'API : Error response 429 while fetching https://api.mistral.ai/v1/chat/completions: {\"message\":\"Requests rate limit exceeded\"}\n",
      "Erreur lors de l'appel à l'API : Error response 429 while fetching https://api.mistral.ai/v1/chat/completions: {\"message\":\"Requests rate limit exceeded\"}\n",
      "Erreur lors de l'appel à l'API : Error response 429 while fetching https://api.mistral.ai/v1/chat/completions: {\"message\":\"Requests rate limit exceeded\"}\n",
      "Erreur lors de l'appel à l'API : Error response 429 while fetching https://api.mistral.ai/v1/chat/completions: {\"message\":\"Requests rate limit exceeded\"}\n",
      "Erreur lors de l'appel à l'API : Error response 429 while fetching https://api.mistral.ai/v1/chat/completions: {\"message\":\"Requests rate limit exceeded\"}\n",
      "Erreur lors de l'appel à l'API : Error response 429 while fetching https://api.mistral.ai/v1/chat/completions: {\"message\":\"Requests rate limit exceeded\"}\n",
      "Erreur lors de l'appel à l'API : Error response 429 while fetching https://api.mistral.ai/v1/chat/completions: {\"message\":\"Requests rate limit exceeded\"}\n",
      "Erreur lors de l'appel à l'API : Error response 429 while fetching https://api.mistral.ai/v1/chat/completions: {\"message\":\"Requests rate limit exceeded\"}\n",
      "Erreur lors de l'appel à l'API : Error response 429 while fetching https://api.mistral.ai/v1/chat/completions: {\"message\":\"Requests rate limit exceeded\"}\n",
      "Erreur lors de l'appel à l'API : Error response 429 while fetching https://api.mistral.ai/v1/chat/completions: {\"message\":\"Requests rate limit exceeded\"}\n",
      "Erreur lors de l'appel à l'API : Error response 429 while fetching https://api.mistral.ai/v1/chat/completions: {\"message\":\"Requests rate limit exceeded\"}\n",
      "Erreur lors de l'appel à l'API : Error response 429 while fetching https://api.mistral.ai/v1/chat/completions: {\"message\":\"Requests rate limit exceeded\"}\n",
      "Erreur lors de l'appel à l'API : Error response 429 while fetching https://api.mistral.ai/v1/chat/completions: {\"message\":\"Requests rate limit exceeded\"}\n",
      "Erreur lors de l'appel à l'API : Error response 429 while fetching https://api.mistral.ai/v1/chat/completions: {\"message\":\"Requests rate limit exceeded\"}\n",
      "Erreur lors de l'appel à l'API : Error response 429 while fetching https://api.mistral.ai/v1/chat/completions: {\"message\":\"Requests rate limit exceeded\"}\n",
      "Erreur lors de l'appel à l'API : Error response 429 while fetching https://api.mistral.ai/v1/chat/completions: {\"message\":\"Requests rate limit exceeded\"}\n",
      "Erreur lors de l'appel à l'API : Error response 429 while fetching https://api.mistral.ai/v1/chat/completions: {\"message\":\"Requests rate limit exceeded\"}\n",
      "Erreur lors de l'appel à l'API : Error response 429 while fetching https://api.mistral.ai/v1/chat/completions: {\"message\":\"Requests rate limit exceeded\"}\n",
      "Erreur lors de l'appel à l'API : Error response 429 while fetching https://api.mistral.ai/v1/chat/completions: {\"message\":\"Requests rate limit exceeded\"}\n",
      "Erreur lors de l'appel à l'API : Error response 429 while fetching https://api.mistral.ai/v1/chat/completions: {\"message\":\"Requests rate limit exceeded\"}\n",
      "Erreur lors de l'appel à l'API : Error response 429 while fetching https://api.mistral.ai/v1/chat/completions: {\"message\":\"Requests rate limit exceeded\"}\n",
      "Erreur lors de l'appel à l'API : Error response 429 while fetching https://api.mistral.ai/v1/chat/completions: {\"message\":\"Requests rate limit exceeded\"}\n",
      "Erreur lors de l'appel à l'API : Error response 429 while fetching https://api.mistral.ai/v1/chat/completions: {\"message\":\"Requests rate limit exceeded\"}\n",
      "Erreur lors de l'appel à l'API : Error response 429 while fetching https://api.mistral.ai/v1/chat/completions: {\"message\":\"Requests rate limit exceeded\"}\n",
      "Erreur lors de l'appel à l'API : Error response 429 while fetching https://api.mistral.ai/v1/chat/completions: {\"message\":\"Requests rate limit exceeded\"}\n",
      "Erreur lors de l'appel à l'API : Error response 429 while fetching https://api.mistral.ai/v1/chat/completions: {\"message\":\"Requests rate limit exceeded\"}\n",
      "Erreur lors de l'appel à l'API : Error response 429 while fetching https://api.mistral.ai/v1/chat/completions: {\"message\":\"Requests rate limit exceeded\"}\n",
      "Erreur lors de l'appel à l'API : Error response 429 while fetching https://api.mistral.ai/v1/chat/completions: {\"message\":\"Requests rate limit exceeded\"}\n",
      "Erreur lors de l'appel à l'API : Error response 429 while fetching https://api.mistral.ai/v1/chat/completions: {\"message\":\"Requests rate limit exceeded\"}\n",
      "Erreur lors de l'appel à l'API : Error response 429 while fetching https://api.mistral.ai/v1/chat/completions: {\"message\":\"Requests rate limit exceeded\"}\n",
      "Erreur lors de l'appel à l'API : Error response 429 while fetching https://api.mistral.ai/v1/chat/completions: {\"message\":\"Requests rate limit exceeded\"}\n",
      "Erreur lors de l'appel à l'API : Error response 429 while fetching https://api.mistral.ai/v1/chat/completions: {\"message\":\"Requests rate limit exceeded\"}\n",
      "Erreur lors de l'appel à l'API : Error response 429 while fetching https://api.mistral.ai/v1/chat/completions: {\"message\":\"Requests rate limit exceeded\"}\n",
      "Erreur lors de l'appel à l'API : Error response 429 while fetching https://api.mistral.ai/v1/chat/completions: {\"message\":\"Requests rate limit exceeded\"}\n",
      "Erreur lors de l'appel à l'API : Error response 429 while fetching https://api.mistral.ai/v1/chat/completions: {\"message\":\"Requests rate limit exceeded\"}\n",
      "Erreur lors de l'appel à l'API : Error response 429 while fetching https://api.mistral.ai/v1/chat/completions: {\"message\":\"Requests rate limit exceeded\"}\n",
      "Erreur lors de l'appel à l'API : Error response 429 while fetching https://api.mistral.ai/v1/chat/completions: {\"message\":\"Requests rate limit exceeded\"}\n",
      "Erreur lors de l'appel à l'API : Error response 429 while fetching https://api.mistral.ai/v1/chat/completions: {\"message\":\"Requests rate limit exceeded\"}\n",
      "Erreur lors de l'appel à l'API : Error response 429 while fetching https://api.mistral.ai/v1/chat/completions: {\"message\":\"Requests rate limit exceeded\"}\n",
      "Erreur lors de l'appel à l'API : Error response 429 while fetching https://api.mistral.ai/v1/chat/completions: {\"message\":\"Requests rate limit exceeded\"}\n",
      "Erreur lors de l'appel à l'API : Error response 429 while fetching https://api.mistral.ai/v1/chat/completions: {\"message\":\"Requests rate limit exceeded\"}\n",
      "Erreur lors de l'appel à l'API : Error response 429 while fetching https://api.mistral.ai/v1/chat/completions: {\"message\":\"Requests rate limit exceeded\"}\n",
      "Erreur lors de l'appel à l'API : Error response 429 while fetching https://api.mistral.ai/v1/chat/completions: {\"message\":\"Requests rate limit exceeded\"}\n",
      "Erreur lors de l'appel à l'API : Error response 429 while fetching https://api.mistral.ai/v1/chat/completions: {\"message\":\"Requests rate limit exceeded\"}\n",
      "Erreur lors de l'appel à l'API : Error response 429 while fetching https://api.mistral.ai/v1/chat/completions: {\"message\":\"Requests rate limit exceeded\"}\n",
      "Erreur lors de l'appel à l'API : Error response 429 while fetching https://api.mistral.ai/v1/chat/completions: {\"message\":\"Requests rate limit exceeded\"}\n",
      "Erreur lors de l'appel à l'API : Error response 429 while fetching https://api.mistral.ai/v1/chat/completions: {\"message\":\"Requests rate limit exceeded\"}\n",
      "Erreur lors de l'appel à l'API : Error response 429 while fetching https://api.mistral.ai/v1/chat/completions: {\"message\":\"Requests rate limit exceeded\"}\n",
      "Erreur lors de l'appel à l'API : Error response 429 while fetching https://api.mistral.ai/v1/chat/completions: {\"message\":\"Requests rate limit exceeded\"}\n",
      "Erreur lors de l'appel à l'API : Error response 429 while fetching https://api.mistral.ai/v1/chat/completions: {\"message\":\"Requests rate limit exceeded\"}\n",
      "Erreur lors de l'appel à l'API : Error response 429 while fetching https://api.mistral.ai/v1/chat/completions: {\"message\":\"Requests rate limit exceeded\"}\n",
      "Erreur lors de l'appel à l'API : Error response 429 while fetching https://api.mistral.ai/v1/chat/completions: {\"message\":\"Requests rate limit exceeded\"}\n",
      "Erreur lors de l'appel à l'API : Error response 429 while fetching https://api.mistral.ai/v1/chat/completions: {\"message\":\"Requests rate limit exceeded\"}\n",
      "Erreur lors de l'appel à l'API : Error response 429 while fetching https://api.mistral.ai/v1/chat/completions: {\"message\":\"Requests rate limit exceeded\"}\n",
      "Erreur lors de l'appel à l'API : Error response 429 while fetching https://api.mistral.ai/v1/chat/completions: {\"message\":\"Requests rate limit exceeded\"}\n",
      "Erreur lors de l'appel à l'API : Error response 429 while fetching https://api.mistral.ai/v1/chat/completions: {\"message\":\"Requests rate limit exceeded\"}\n",
      "Erreur lors de l'appel à l'API : Error response 429 while fetching https://api.mistral.ai/v1/chat/completions: {\"message\":\"Requests rate limit exceeded\"}\n",
      "Erreur lors de l'appel à l'API : Error response 429 while fetching https://api.mistral.ai/v1/chat/completions: {\"message\":\"Requests rate limit exceeded\"}\n",
      "Erreur lors de l'appel à l'API : Error response 429 while fetching https://api.mistral.ai/v1/chat/completions: {\"message\":\"Requests rate limit exceeded\"}\n",
      "Erreur lors de l'appel à l'API : Error response 429 while fetching https://api.mistral.ai/v1/chat/completions: {\"message\":\"Requests rate limit exceeded\"}\n",
      "Erreur lors de l'appel à l'API : Error response 429 while fetching https://api.mistral.ai/v1/chat/completions: {\"message\":\"Requests rate limit exceeded\"}\n"
     ]
    },
    {
     "name": "stderr",
     "output_type": "stream",
     "text": [
      "Évaluation:  86%|████████▋ | 69/80 [14:34<04:57, 27.00s/it]"
     ]
    },
    {
     "name": "stdout",
     "output_type": "stream",
     "text": [
      "Erreur lors de l'appel à l'API : Error response 429 while fetching https://api.mistral.ai/v1/chat/completions: {\"message\":\"Requests rate limit exceeded\"}\n"
     ]
    },
    {
     "name": "stderr",
     "output_type": "stream",
     "text": [
      "Évaluation:  89%|████████▉ | 71/80 [14:50<02:35, 17.23s/it]"
     ]
    },
    {
     "name": "stdout",
     "output_type": "stream",
     "text": [
      "Erreur lors de l'appel à l'API : Error response 429 while fetching https://api.mistral.ai/v1/chat/completions: {\"message\":\"Requests rate limit exceeded\"}\n"
     ]
    },
    {
     "name": "stderr",
     "output_type": "stream",
     "text": [
      "Évaluation:  90%|█████████ | 72/80 [14:56<01:50, 13.77s/it]"
     ]
    },
    {
     "name": "stdout",
     "output_type": "stream",
     "text": [
      "Erreur lors de l'appel à l'API : Error response 429 while fetching https://api.mistral.ai/v1/chat/completions: {\"message\":\"Requests rate limit exceeded\"}\n",
      "Erreur lors de l'appel à l'API : Error response 429 while fetching https://api.mistral.ai/v1/chat/completions: {\"message\":\"Requests rate limit exceeded\"}\n",
      "Erreur lors de l'appel à l'API : Error response 429 while fetching https://api.mistral.ai/v1/chat/completions: {\"message\":\"Requests rate limit exceeded\"}\n",
      "Erreur lors de l'appel à l'API : Error response 429 while fetching https://api.mistral.ai/v1/chat/completions: {\"message\":\"Requests rate limit exceeded\"}\n",
      "Erreur lors de l'appel à l'API : Error response 429 while fetching https://api.mistral.ai/v1/chat/completions: {\"message\":\"Requests rate limit exceeded\"}\n",
      "Erreur lors de l'appel à l'API : Error response 429 while fetching https://api.mistral.ai/v1/chat/completions: {\"message\":\"Requests rate limit exceeded\"}\n",
      "Erreur lors de l'appel à l'API : Error response 429 while fetching https://api.mistral.ai/v1/chat/completions: {\"message\":\"Requests rate limit exceeded\"}\n",
      "Erreur lors de l'appel à l'API : Error response 429 while fetching https://api.mistral.ai/v1/chat/completions: {\"message\":\"Requests rate limit exceeded\"}\n",
      "Erreur lors de l'appel à l'API : Error response 429 while fetching https://api.mistral.ai/v1/chat/completions: {\"message\":\"Requests rate limit exceeded\"}\n",
      "Erreur lors de l'appel à l'API : Error response 429 while fetching https://api.mistral.ai/v1/chat/completions: {\"message\":\"Requests rate limit exceeded\"}\n"
     ]
    },
    {
     "name": "stderr",
     "output_type": "stream",
     "text": [
      "Évaluation:  92%|█████████▎| 74/80 [15:11<01:04, 10.69s/it]"
     ]
    },
    {
     "name": "stdout",
     "output_type": "stream",
     "text": [
      "Erreur lors de l'appel à l'API : Error response 429 while fetching https://api.mistral.ai/v1/chat/completions: {\"message\":\"Requests rate limit exceeded\"}\n",
      "Erreur lors de l'appel à l'API : Error response 429 while fetching https://api.mistral.ai/v1/chat/completions: {\"message\":\"Requests rate limit exceeded\"}\n",
      "Erreur lors de l'appel à l'API : Error response 429 while fetching https://api.mistral.ai/v1/chat/completions: {\"message\":\"Requests rate limit exceeded\"}\n",
      "Erreur lors de l'appel à l'API : Error response 429 while fetching https://api.mistral.ai/v1/chat/completions: {\"message\":\"Requests rate limit exceeded\"}\n",
      "Erreur lors de l'appel à l'API : Error response 429 while fetching https://api.mistral.ai/v1/chat/completions: {\"message\":\"Requests rate limit exceeded\"}\n",
      "Erreur lors de l'appel à l'API : Error response 429 while fetching https://api.mistral.ai/v1/chat/completions: {\"message\":\"Requests rate limit exceeded\"}\n",
      "Erreur lors de l'appel à l'API : Error response 429 while fetching https://api.mistral.ai/v1/chat/completions: {\"message\":\"Requests rate limit exceeded\"}\n",
      "Erreur lors de l'appel à l'API : Error response 429 while fetching https://api.mistral.ai/v1/chat/completions: {\"message\":\"Requests rate limit exceeded\"}\n",
      "Erreur lors de l'appel à l'API : Error response 429 while fetching https://api.mistral.ai/v1/chat/completions: {\"object\":\"error\",\"message\":\"Service tier capacity exceeded for this model.\",\"type\":\"invalid_request_error\",\"param\":null,\"code\":null}\n"
     ]
    },
    {
     "name": "stderr",
     "output_type": "stream",
     "text": [
      "Évaluation:  95%|█████████▌| 76/80 [15:29<00:40, 10.02s/it]"
     ]
    },
    {
     "name": "stdout",
     "output_type": "stream",
     "text": [
      "Erreur lors de l'appel à l'API : Error response 429 while fetching https://api.mistral.ai/v1/chat/completions: {\"message\":\"Requests rate limit exceeded\"}\n"
     ]
    },
    {
     "name": "stderr",
     "output_type": "stream",
     "text": [
      "Évaluation:  96%|█████████▋| 77/80 [15:37<00:27,  9.24s/it]"
     ]
    },
    {
     "name": "stdout",
     "output_type": "stream",
     "text": [
      "Erreur lors de l'appel à l'API : Error response 429 while fetching https://api.mistral.ai/v1/chat/completions: {\"message\":\"Requests rate limit exceeded\"}\n",
      "Erreur lors de l'appel à l'API : Error response 429 while fetching https://api.mistral.ai/v1/chat/completions: {\"message\":\"Requests rate limit exceeded\"}\n",
      "Erreur lors de l'appel à l'API : Error response 429 while fetching https://api.mistral.ai/v1/chat/completions: {\"message\":\"Requests rate limit exceeded\"}\n",
      "Erreur lors de l'appel à l'API : Error response 429 while fetching https://api.mistral.ai/v1/chat/completions: {\"message\":\"Requests rate limit exceeded\"}\n",
      "Erreur lors de l'appel à l'API : Error response 429 while fetching https://api.mistral.ai/v1/chat/completions: {\"message\":\"Requests rate limit exceeded\"}\n"
     ]
    },
    {
     "name": "stderr",
     "output_type": "stream",
     "text": [
      "Évaluation:  98%|█████████▊| 78/80 [15:45<00:17,  8.92s/it]"
     ]
    },
    {
     "name": "stdout",
     "output_type": "stream",
     "text": [
      "Erreur lors de l'appel à l'API : Error response 429 while fetching https://api.mistral.ai/v1/chat/completions: {\"message\":\"Requests rate limit exceeded\"}\n",
      "Erreur lors de l'appel à l'API : Error response 429 while fetching https://api.mistral.ai/v1/chat/completions: {\"message\":\"Requests rate limit exceeded\"}\n"
     ]
    },
    {
     "name": "stderr",
     "output_type": "stream",
     "text": [
      "Évaluation:  99%|█████████▉| 79/80 [15:51<00:07,  7.98s/it]"
     ]
    },
    {
     "name": "stdout",
     "output_type": "stream",
     "text": [
      "Erreur lors de l'appel à l'API : Error response 429 while fetching https://api.mistral.ai/v1/chat/completions: {\"message\":\"Requests rate limit exceeded\"}\n"
     ]
    },
    {
     "name": "stderr",
     "output_type": "stream",
     "text": [
      "Évaluation: 100%|██████████| 80/80 [16:00<00:00, 12.01s/it]\n"
     ]
    }
   ],
   "source": [
    "print(\"Évaluation des réponses du chatbot...\")\n",
    "notes_correct, notes_relev, notes_faith = [], [], []\n",
    "exps_correct,  exps_relev,  exps_faith  = [], [], []\n",
    "\n",
    "for row in tqdm(df.itertuples(), total=len(df), desc=\"Évaluation\"):\n",
    "\n",
    "    docs = vector.similarity_search(row.question, k=4)\n",
    "    ctx  = \"\\n\\n\".join(d.page_content for d in docs)\n",
    "    while True:\n",
    "        try : \n",
    "            # --- Correctness\n",
    "            res = correctness_chain.invoke({\n",
    "                \"question\":  row.question,\n",
    "                \"reference\": row.answer,\n",
    "                \"prediction\":row.prediction,\n",
    "            })\n",
    "            break\n",
    "        except Exception as e:\n",
    "            print(f\"Erreur lors de l'appel à l'API : {e}\")\n",
    "    notes_correct.append(res[\"note\"]) \n",
    "    exps_correct.append(res[\"explication\"])  \n",
    "    while True:\n",
    "        try : \n",
    "            # --- Relevance\n",
    "            res = relevance_chain.invoke({\n",
    "                \"question\":  row.question,\n",
    "                \"prediction\":row.prediction,\n",
    "            })\n",
    "            break\n",
    "        except Exception as e:\n",
    "            print(f\"Erreur lors de l'appel à l'API : {e}\")\n",
    "    notes_relev.append(res[\"note\"])\n",
    "    exps_relev.append(res[\"explication\"])\n",
    "    while True:\n",
    "        try : \n",
    "            # --- Faithfulness / groundedness\n",
    "            res = faithfulness_chain.invoke({\n",
    "                \"docs\":       ctx,\n",
    "                \"prediction\": row.prediction,\n",
    "            })\n",
    "            break\n",
    "        except Exception as e:\n",
    "            print(f\"Erreur lors de l'appel à l'API : {e}\")\n",
    "    notes_faith.append(res[\"note\"])\n",
    "    exps_faith.append(res[\"explication\"])"
   ]
  },
  {
   "cell_type": "code",
   "execution_count": 29,
   "id": "cd661f95",
   "metadata": {},
   "outputs": [],
   "source": [
    "df[\"note_correct\"]       = notes_correct\n",
    "df[\"note_relevance\"]     = notes_relev\n",
    "df[\"note_faithfulness\"]  = notes_faith\n",
    "\n",
    "df[\"explication_correct\"]      = exps_correct\n",
    "df[\"explication_relevance\"]    = exps_relev\n",
    "df[\"explication_faithfulness\"] = exps_faith\n",
    "\n",
    "df.to_csv(csv, index=False, encoding=\"utf-8\")"
   ]
  },
  {
   "cell_type": "code",
   "execution_count": 30,
   "id": "a4b8c7dd",
   "metadata": {},
   "outputs": [
    {
     "name": "stderr",
     "output_type": "stream",
     "text": [
      "Évaluation: 100%|██████████| 80/80 [00:03<00:00, 20.54it/s]\n"
     ]
    }
   ],
   "source": [
    "sims = []\n",
    "st_model = SentenceTransformer(\"all-MiniLM-L6-v2\")\n",
    "for row in tqdm(df.itertuples(), total=len(df), desc=\"Évaluation\"):\n",
    "    sims.append(util.cos_sim(\n",
    "        st_model.encode(row.prediction, convert_to_tensor=True),\n",
    "        st_model.encode(row.answer,     convert_to_tensor=True)\n",
    "    ).item())"
   ]
  },
  {
   "cell_type": "code",
   "execution_count": 31,
   "id": "31d2a8d9",
   "metadata": {},
   "outputs": [],
   "source": [
    "# Store results\n",
    "df[\"semantic_sim\"] = sims"
   ]
  },
  {
   "cell_type": "code",
   "execution_count": 32,
   "id": "61507ccc",
   "metadata": {},
   "outputs": [
    {
     "name": "stdout",
     "output_type": "stream",
     "text": [
      "\n",
      "Résultats sauvegardés dans : /workspace/tests/rag_eval_results.csv\n"
     ]
    }
   ],
   "source": [
    "# Save results to CSV\n",
    "df.to_csv(csv, index=False, encoding=\"utf-8\")\n",
    "print(f\"\\nRésultats sauvegardés dans : {csv}\")"
   ]
  },
  {
   "cell_type": "code",
   "execution_count": 33,
   "id": "549456bc",
   "metadata": {},
   "outputs": [
    {
     "name": "stdout",
     "output_type": "stream",
     "text": [
      "\n",
      "\n",
      "Résultats de l'évaluation :\n",
      "\n"
     ]
    },
    {
     "data": {
      "text/html": [
       "<div>\n",
       "<style scoped>\n",
       "    .dataframe tbody tr th:only-of-type {\n",
       "        vertical-align: middle;\n",
       "    }\n",
       "\n",
       "    .dataframe tbody tr th {\n",
       "        vertical-align: top;\n",
       "    }\n",
       "\n",
       "    .dataframe thead th {\n",
       "        text-align: right;\n",
       "    }\n",
       "</style>\n",
       "<table border=\"1\" class=\"dataframe\">\n",
       "  <thead>\n",
       "    <tr style=\"text-align: center;\">\n",
       "      <th></th>\n",
       "      <th>question</th>\n",
       "      <th>answer</th>\n",
       "      <th>doc_name</th>\n",
       "      <th>support_doc_ids</th>\n",
       "      <th>prediction</th>\n",
       "      <th>latency</th>\n",
       "      <th>note_correct</th>\n",
       "      <th>note_relevance</th>\n",
       "      <th>note_faithfulness</th>\n",
       "      <th>explication_correct</th>\n",
       "      <th>explication_relevance</th>\n",
       "      <th>explication_faithfulness</th>\n",
       "      <th>semantic_sim</th>\n",
       "    </tr>\n",
       "  </thead>\n",
       "  <tbody>\n",
       "    <tr>\n",
       "      <th>0</th>\n",
       "      <td>Quelle est la toute première étape avant d’uti...</td>\n",
       "      <td>Il faut d’abord déverrouiller la porte de l’ob...</td>\n",
       "      <td>astro-procedures-resume-anon.pdf</td>\n",
       "      <td>[30c60136-2d70-4dc2-975d-3035c5a04266]</td>\n",
       "      <td>La toute première étape avant d’utiliser le té...</td>\n",
       "      <td>33.88</td>\n",
       "      <td>3</td>\n",
       "      <td>5</td>\n",
       "      <td>4</td>\n",
       "      <td>La réponse du chatbot contient des information...</td>\n",
       "      <td>La réponse est complète et pertinente, couvran...</td>\n",
       "      <td>La réponse du chatbot est principalement basée...</td>\n",
       "      <td>0.61</td>\n",
       "    </tr>\n",
       "    <tr>\n",
       "      <th>1</th>\n",
       "      <td>Où se trouve le bouton vert qu’il faut allumer...</td>\n",
       "      <td>Le bouton vert se trouve sur la multiprise ins...</td>\n",
       "      <td>astro-procedures-resume-anon.pdf</td>\n",
       "      <td>[30c60136-2d70-4dc2-975d-3035c5a04266]</td>\n",
       "      <td>Le bouton vert se trouve sur la multiprise. Po...</td>\n",
       "      <td>2.90</td>\n",
       "      <td>4</td>\n",
       "      <td>5</td>\n",
       "      <td>5</td>\n",
       "      <td>La réponse du chatbot est presque correcte mai...</td>\n",
       "      <td>La réponse est précise et directement pertinen...</td>\n",
       "      <td>La réponse du chatbot est entièrement fondée s...</td>\n",
       "      <td>0.76</td>\n",
       "    </tr>\n",
       "    <tr>\n",
       "      <th>2</th>\n",
       "      <td>Quel logiciel doit-on utiliser pour générer un...</td>\n",
       "      <td>On lance Prism pour générer la carte du ciel, ...</td>\n",
       "      <td>astro-procedures-resume-anon.pdf</td>\n",
       "      <td>[30c60136-2d70-4dc2-975d-3035c5a04266]</td>\n",
       "      <td>Je ne sais pas.</td>\n",
       "      <td>0.93</td>\n",
       "      <td>0</td>\n",
       "      <td>0</td>\n",
       "      <td>0</td>\n",
       "      <td>Le chatbot n'a pas fourni de réponse à la ques...</td>\n",
       "      <td>La réponse est hors-sujet et ne fournit aucune...</td>\n",
       "      <td>La réponse du chatbot \"Je ne sais pas.\" n'est ...</td>\n",
       "      <td>0.36</td>\n",
       "    </tr>\n",
       "    <tr>\n",
       "      <th>3</th>\n",
       "      <td>Que doit-on faire de l’oculaire une fois chois...</td>\n",
       "      <td>L’oculaire choisi doit être placé dans le port...</td>\n",
       "      <td>astro-procedures-resume-anon.pdf</td>\n",
       "      <td>[30c60136-2d70-4dc2-975d-3035c5a04266]</td>\n",
       "      <td>Une fois l'oculaire choisi, il faut le branche...</td>\n",
       "      <td>31.68</td>\n",
       "      <td>2</td>\n",
       "      <td>4</td>\n",
       "      <td>5</td>\n",
       "      <td>La réponse du chatbot contient des erreurs imp...</td>\n",
       "      <td>La réponse est globalement pertinente. Elle me...</td>\n",
       "      <td>La réponse du chatbot est entièrement fondée s...</td>\n",
       "      <td>0.44</td>\n",
       "    </tr>\n",
       "    <tr>\n",
       "      <th>4</th>\n",
       "      <td>Quelle commande spécifique faut-il exécuter da...</td>\n",
       "      <td>Il faut lancer la commande « Init. Reset » dan...</td>\n",
       "      <td>astro-procedures-resume-anon.pdf</td>\n",
       "      <td>[30c60136-2d70-4dc2-975d-3035c5a04266]</td>\n",
       "      <td>Après la mise en route, dans le module « Contr...</td>\n",
       "      <td>3.11</td>\n",
       "      <td>2</td>\n",
       "      <td>3</td>\n",
       "      <td>5</td>\n",
       "      <td>La réponse du chatbot contient des éléments co...</td>\n",
       "      <td>La réponse mentionne des actions spécifiques à...</td>\n",
       "      <td>La réponse du chatbot est entièrement fondée s...</td>\n",
       "      <td>0.69</td>\n",
       "    </tr>\n",
       "    <tr>\n",
       "      <th>5</th>\n",
       "      <td>Lorsqu’il n’est pas en mode parking, à quelle ...</td>\n",
       "      <td>Le télescope doit être repositionné au zénith,...</td>\n",
       "      <td>astro-procedures-resume-anon.pdf</td>\n",
       "      <td>[30c60136-2d70-4dc2-975d-3035c5a04266]</td>\n",
       "      <td>Lorsqu’il n’est pas en mode parking, il faut r...</td>\n",
       "      <td>1.55</td>\n",
       "      <td>5</td>\n",
       "      <td>5</td>\n",
       "      <td>5</td>\n",
       "      <td>La réponse du chatbot est parfaitement correct...</td>\n",
       "      <td>La réponse est correcte et pertinente. Le téle...</td>\n",
       "      <td>La réponse est entièrement fondée sur les docu...</td>\n",
       "      <td>0.77</td>\n",
       "    </tr>\n",
       "    <tr>\n",
       "      <th>6</th>\n",
       "      <td>Comment pointer un objet et synchroniser le té...</td>\n",
       "      <td>Dans Prism, on pointe l’objet dans la carte du...</td>\n",
       "      <td>astro-procedures-resume-anon.pdf</td>\n",
       "      <td>[30c60136-2d70-4dc2-975d-3035c5a04266]</td>\n",
       "      <td>Pour pointer un objet et synchroniser le téles...</td>\n",
       "      <td>5.01</td>\n",
       "      <td>3</td>\n",
       "      <td>4</td>\n",
       "      <td>5</td>\n",
       "      <td>La réponse est presque correcte mais ajoute un...</td>\n",
       "      <td>La réponse est pertinente et donne des étapes ...</td>\n",
       "      <td>La réponse du chatbot est entièrement fondée s...</td>\n",
       "      <td>0.76</td>\n",
       "    </tr>\n",
       "    <tr>\n",
       "      <th>7</th>\n",
       "      <td>Quelles opérations successives doit-on effectu...</td>\n",
       "      <td>Avant de quitter : exécuter « Parking » dans «...</td>\n",
       "      <td>astro-procedures-resume-anon.pdf</td>\n",
       "      <td>[30c60136-2d70-4dc2-975d-3035c5a04266]</td>\n",
       "      <td>Avant de quitter la session, il faut d'abord c...</td>\n",
       "      <td>2.76</td>\n",
       "      <td>2</td>\n",
       "      <td>4</td>\n",
       "      <td>5</td>\n",
       "      <td>La réponse du chatbot contient des éléments co...</td>\n",
       "      <td>La réponse est pertinente et détaillée, mais i...</td>\n",
       "      <td>La réponse du chatbot est entièrement fondée s...</td>\n",
       "      <td>0.51</td>\n",
       "    </tr>\n",
       "    <tr>\n",
       "      <th>8</th>\n",
       "      <td>Après avoir rangé l’oculaire, quelles sources ...</td>\n",
       "      <td>Il faut éteindre le bouton vert de la multipri...</td>\n",
       "      <td>astro-procedures-resume-anon.pdf</td>\n",
       "      <td>[30c60136-2d70-4dc2-975d-3035c5a04266]</td>\n",
       "      <td>Après avoir rangé l'oculaire, il faut couper l...</td>\n",
       "      <td>1.65</td>\n",
       "      <td>3</td>\n",
       "      <td>5</td>\n",
       "      <td>4</td>\n",
       "      <td>La réponse du chatbot contient des éléments co...</td>\n",
       "      <td>La réponse est complète et pertinente, couvran...</td>\n",
       "      <td>La réponse est presque entièrement fondée sur ...</td>\n",
       "      <td>0.52</td>\n",
       "    </tr>\n",
       "    <tr>\n",
       "      <th>9</th>\n",
       "      <td>Où doit-on ranger la clé une fois l’observatoi...</td>\n",
       "      <td>La clé doit être déposée dans la boîte aux let...</td>\n",
       "      <td>astro-procedures-resume-anon.pdf</td>\n",
       "      <td>[30c60136-2d70-4dc2-975d-3035c5a04266]</td>\n",
       "      <td>La clé doit être rangée dans la boîte aux lett...</td>\n",
       "      <td>0.81</td>\n",
       "      <td>5</td>\n",
       "      <td>0</td>\n",
       "      <td>5</td>\n",
       "      <td>La réponse du chatbot est parfaitement correct...</td>\n",
       "      <td>La réponse est hors-sujet. Ranger la clé dans ...</td>\n",
       "      <td>La réponse du chatbot est entièrement fondée s...</td>\n",
       "      <td>0.65</td>\n",
       "    </tr>\n",
       "    <tr>\n",
       "      <th>10</th>\n",
       "      <td>Pourquoi le coronographe de l’observatoire com...</td>\n",
       "      <td>Le diamètre apparent du Soleil varie d’environ...</td>\n",
       "      <td>Le-coronographe-de-Lyot.pdf</td>\n",
       "      <td>[b6fedda4-780a-4059-a594-df751a5a6d7c]</td>\n",
       "      <td>Le coronographe comporte cinq cônes obturateur...</td>\n",
       "      <td>32.46</td>\n",
       "      <td>5</td>\n",
       "      <td>5</td>\n",
       "      <td>5</td>\n",
       "      <td>La réponse du chatbot est parfaitement correct...</td>\n",
       "      <td>La réponse est parfaitement pertinente et expl...</td>\n",
       "      <td>La réponse du chatbot est entièrement fondée s...</td>\n",
       "      <td>0.84</td>\n",
       "    </tr>\n",
       "    <tr>\n",
       "      <th>11</th>\n",
       "      <td>Quelle est la première action du montage de Ly...</td>\n",
       "      <td>La première étape consiste à placer un cône mé...</td>\n",
       "      <td>Le-coronographe-de-Lyot.pdf</td>\n",
       "      <td>[b6fedda4-780a-4059-a594-df751a5a6d7c]</td>\n",
       "      <td>La première action du montage de Lyot dans le ...</td>\n",
       "      <td>7.10</td>\n",
       "      <td>3</td>\n",
       "      <td>5</td>\n",
       "      <td>4</td>\n",
       "      <td>La réponse mentionne correctement l'effet de c...</td>\n",
       "      <td>La réponse est pertinente et correcte. Elle dé...</td>\n",
       "      <td>La réponse est principalement fondée sur le co...</td>\n",
       "      <td>0.66</td>\n",
       "    </tr>\n",
       "    <tr>\n",
       "      <th>12</th>\n",
       "      <td>Dans la deuxième action du montage de Lyot, qu...</td>\n",
       "      <td>Une lentille L2 forme l’image pupillaire de l’...</td>\n",
       "      <td>Le-coronographe-de-Lyot.pdf</td>\n",
       "      <td>[b6fedda4-780a-4059-a594-df751a5a6d7c]</td>\n",
       "      <td>Un diaphragme circulaire est utilisé pour supp...</td>\n",
       "      <td>3.23</td>\n",
       "      <td>4</td>\n",
       "      <td>5</td>\n",
       "      <td>5</td>\n",
       "      <td>La réponse est presque correcte mais manque de...</td>\n",
       "      <td>La réponse est précise et correcte. Elle ident...</td>\n",
       "      <td>La réponse du chatbot est entièrement fondée s...</td>\n",
       "      <td>0.51</td>\n",
       "    </tr>\n",
       "    <tr>\n",
       "      <th>13</th>\n",
       "      <td>Quelle lentille réalise l’image de la couronne...</td>\n",
       "      <td>La lentille convergente L3, placée après le di...</td>\n",
       "      <td>Le-coronographe-de-Lyot.pdf</td>\n",
       "      <td>[b6fedda4-780a-4059-a594-df751a5a6d7c]</td>\n",
       "      <td>La lentille L3 réalise l’image de la couronne ...</td>\n",
       "      <td>1.47</td>\n",
       "      <td>5</td>\n",
       "      <td>5</td>\n",
       "      <td>5</td>\n",
       "      <td>La réponse du chatbot est parfaitement correct...</td>\n",
       "      <td>La réponse est précise et pertinente. Elle ide...</td>\n",
       "      <td>La réponse du chatbot est entièrement fondée s...</td>\n",
       "      <td>0.87</td>\n",
       "    </tr>\n",
       "    <tr>\n",
       "      <th>14</th>\n",
       "      <td>Pourquoi le bleu du ciel est-il considéré comm...</td>\n",
       "      <td>La diffusion Rayleigh dans l’atmosphère est pr...</td>\n",
       "      <td>Le-coronographe-de-Lyot.pdf</td>\n",
       "      <td>[b6fedda4-780a-4059-a594-df751a5a6d7c]</td>\n",
       "      <td>Le bleu du ciel est considéré comme l’« ennemi...</td>\n",
       "      <td>4.36</td>\n",
       "      <td>3</td>\n",
       "      <td>5</td>\n",
       "      <td>5</td>\n",
       "      <td>La réponse du chatbot n'est pas totalement fau...</td>\n",
       "      <td>La réponse est pertinente et explique claireme...</td>\n",
       "      <td>La réponse est entièrement fondée sur le conte...</td>\n",
       "      <td>0.37</td>\n",
       "    </tr>\n",
       "    <tr>\n",
       "      <th>15</th>\n",
       "      <td>De quoi se compose une cellule élémentaire d’u...</td>\n",
       "      <td>Chaque cellule comprend une lame de spath d’Is...</td>\n",
       "      <td>Le-coronographe-de-Lyot.pdf</td>\n",
       "      <td>[b6fedda4-780a-4059-a594-df751a5a6d7c]</td>\n",
       "      <td>Une cellule élémentaire d’un filtre de Lyot se...</td>\n",
       "      <td>2.86</td>\n",
       "      <td>5</td>\n",
       "      <td>5</td>\n",
       "      <td>5</td>\n",
       "      <td>La réponse du chatbot est correcte. Elle décri...</td>\n",
       "      <td>La réponse est complète et précise. Elle menti...</td>\n",
       "      <td>La réponse du chatbot est entièrement fondée s...</td>\n",
       "      <td>0.81</td>\n",
       "    </tr>\n",
       "    <tr>\n",
       "      <th>16</th>\n",
       "      <td>Quelle combinaison de lames biréfringentes per...</td>\n",
       "      <td>Un filtre de Lyot constitué de trois lames de ...</td>\n",
       "      <td>Le-coronographe-de-Lyot.pdf</td>\n",
       "      <td>[b6fedda4-780a-4059-a594-df751a5a6d7c]</td>\n",
       "      <td>Une combinaison de trois lames cristallines d’...</td>\n",
       "      <td>1.44</td>\n",
       "      <td>5</td>\n",
       "      <td>5</td>\n",
       "      <td>5</td>\n",
       "      <td>La réponse du chatbot est factuellement correc...</td>\n",
       "      <td>La réponse est précise et pertinente. Elle men...</td>\n",
       "      <td>La réponse du chatbot correspond précisément a...</td>\n",
       "      <td>0.71</td>\n",
       "    </tr>\n",
       "    <tr>\n",
       "      <th>17</th>\n",
       "      <td>Pourquoi associe-t-on un ou deux filtres inter...</td>\n",
       "      <td>Les filtres interférentiels servent à isoler u...</td>\n",
       "      <td>Le-coronographe-de-Lyot.pdf</td>\n",
       "      <td>[b6fedda4-780a-4059-a594-df751a5a6d7c]</td>\n",
       "      <td>On associe un ou deux filtres interférentiels ...</td>\n",
       "      <td>1.54</td>\n",
       "      <td>4</td>\n",
       "      <td>5</td>\n",
       "      <td>5</td>\n",
       "      <td>La réponse est globalement correcte mais il y ...</td>\n",
       "      <td>La réponse est pertinente et précise. Elle exp...</td>\n",
       "      <td>La réponse du chatbot est entièrement fondée s...</td>\n",
       "      <td>0.79</td>\n",
       "    </tr>\n",
       "    <tr>\n",
       "      <th>18</th>\n",
       "      <td>Comment la lentille objectif asphérique du cor...</td>\n",
       "      <td>On applique une correction de forme à la lenti...</td>\n",
       "      <td>Le-coronographe-de-Lyot.pdf</td>\n",
       "      <td>[b6fedda4-780a-4059-a594-df751a5a6d7c]</td>\n",
       "      <td>La lentille objectif asphérique du coronograph...</td>\n",
       "      <td>36.88</td>\n",
       "      <td>2</td>\n",
       "      <td>4</td>\n",
       "      <td>4</td>\n",
       "      <td>La réponse du chatbot mentionne l'ajustement d...</td>\n",
       "      <td>La réponse est très pertinente et aborde les p...</td>\n",
       "      <td>La réponse du chatbot est en grande partie fon...</td>\n",
       "      <td>0.55</td>\n",
       "    </tr>\n",
       "    <tr>\n",
       "      <th>19</th>\n",
       "      <td>Quelle est la luminosité relative de la couron...</td>\n",
       "      <td>La couronne solaire est environ un million (10...</td>\n",
       "      <td>Le-coronographe-de-Lyot.pdf</td>\n",
       "      <td>[b6fedda4-780a-4059-a594-df751a5a6d7c]</td>\n",
       "      <td>La couronne solaire est $10^6$ fois moins lumi...</td>\n",
       "      <td>2.98</td>\n",
       "      <td>5</td>\n",
       "      <td>5</td>\n",
       "      <td>5</td>\n",
       "      <td>La réponse du chatbot est parfaitement correct...</td>\n",
       "      <td>La réponse est précise et fournit les valeurs ...</td>\n",
       "      <td>La réponse du chatbot est entièrement fondée s...</td>\n",
       "      <td>0.92</td>\n",
       "    </tr>\n",
       "    <tr>\n",
       "      <th>20</th>\n",
       "      <td>Quel est le diamètre de la coupole qui abrite ...</td>\n",
       "      <td>La coupole hémisphérique qui protège le Schmid...</td>\n",
       "      <td>Le-telescope-de-Schmidt-Cassegrain.pdf</td>\n",
       "      <td>[20012ce8-c0a7-4ce3-bb06-b56a8ea3b299]</td>\n",
       "      <td>Le diamètre de la coupole qui abrite le télesc...</td>\n",
       "      <td>2.88</td>\n",
       "      <td>5</td>\n",
       "      <td>5</td>\n",
       "      <td>5</td>\n",
       "      <td>La réponse du chatbot est parfaitement correct...</td>\n",
       "      <td>Réponse précise et directement pertinente à la...</td>\n",
       "      <td>La réponse du chatbot est entièrement fondée s...</td>\n",
       "      <td>0.60</td>\n",
       "    </tr>\n",
       "    <tr>\n",
       "      <th>21</th>\n",
       "      <td>Que signifient exactement les mentions « Casse...</td>\n",
       "      <td>« Cassegrain » indique que le miroir principal...</td>\n",
       "      <td>Le-telescope-de-Schmidt-Cassegrain.pdf</td>\n",
       "      <td>[20012ce8-c0a7-4ce3-bb06-b56a8ea3b299]</td>\n",
       "      <td>La mention « Cassegrain » signifie que le miro...</td>\n",
       "      <td>32.48</td>\n",
       "      <td>4</td>\n",
       "      <td>3</td>\n",
       "      <td>5</td>\n",
       "      <td>La réponse est presque correcte, mais elle man...</td>\n",
       "      <td>La réponse est partiellement correcte. La ment...</td>\n",
       "      <td>La réponse du chatbot est entièrement fondée s...</td>\n",
       "      <td>0.93</td>\n",
       "    </tr>\n",
       "    <tr>\n",
       "      <th>22</th>\n",
       "      <td>Quelle distance focale obtient-on pour le téle...</td>\n",
       "      <td>En appliquant la relation $f = \\dfrac{f_1 f_2}...</td>\n",
       "      <td>Le-telescope-de-Schmidt-Cassegrain.pdf</td>\n",
       "      <td>[20012ce8-c0a7-4ce3-bb06-b56a8ea3b299]</td>\n",
       "      <td>Pour une distance L de 740 mm, la distance foc...</td>\n",
       "      <td>31.78</td>\n",
       "      <td>5</td>\n",
       "      <td>5</td>\n",
       "      <td>5</td>\n",
       "      <td>La réponse du chatbot est parfaitement correct...</td>\n",
       "      <td>La réponse est directement pertinente à la que...</td>\n",
       "      <td>La réponse du chatbot correspond exactement au...</td>\n",
       "      <td>0.74</td>\n",
       "    </tr>\n",
       "    <tr>\n",
       "      <th>23</th>\n",
       "      <td>Quelle marge de déplacement possède le miroir ...</td>\n",
       "      <td>Le miroir secondaire peut être translaté sur 2...</td>\n",
       "      <td>Le-telescope-de-Schmidt-Cassegrain.pdf</td>\n",
       "      <td>[20012ce8-c0a7-4ce3-bb06-b56a8ea3b299]</td>\n",
       "      <td>Le miroir secondaire dispose d’une latitude de...</td>\n",
       "      <td>61.43</td>\n",
       "      <td>5</td>\n",
       "      <td>5</td>\n",
       "      <td>5</td>\n",
       "      <td>La réponse du chatbot est parfaitement correct...</td>\n",
       "      <td>La réponse est précise et pertinente, fourniss...</td>\n",
       "      <td>La réponse du chatbot correspond exactement au...</td>\n",
       "      <td>0.84</td>\n",
       "    </tr>\n",
       "    <tr>\n",
       "      <th>24</th>\n",
       "      <td>Quels sont les rayons respectifs de l’ouvertur...</td>\n",
       "      <td>Le faisceau incident est limité par une ouvert...</td>\n",
       "      <td>Le-telescope-de-Schmidt-Cassegrain.pdf</td>\n",
       "      <td>[20012ce8-c0a7-4ce3-bb06-b56a8ea3b299]</td>\n",
       "      <td>Le rayon de l'ouverture du télescope est de 20...</td>\n",
       "      <td>1.04</td>\n",
       "      <td>5</td>\n",
       "      <td>5</td>\n",
       "      <td>5</td>\n",
       "      <td>La réponse du chatbot est parfaitement correct...</td>\n",
       "      <td>La réponse est pertinente et fournit les infor...</td>\n",
       "      <td>Les informations données par le chatbot corres...</td>\n",
       "      <td>0.64</td>\n",
       "    </tr>\n",
       "    <tr>\n",
       "      <th>25</th>\n",
       "      <td>Comment l’obstruction centrale influe-t-elle s...</td>\n",
       "      <td>Le masque central atténue l’intensité du lobe ...</td>\n",
       "      <td>Le-telescope-de-Schmidt-Cassegrain.pdf</td>\n",
       "      <td>[20012ce8-c0a7-4ce3-bb06-b56a8ea3b299]</td>\n",
       "      <td>L'obstruction centrale atténue le lobe princip...</td>\n",
       "      <td>1.91</td>\n",
       "      <td>5</td>\n",
       "      <td>4</td>\n",
       "      <td>5</td>\n",
       "      <td>La réponse du chatbot est factuellement correc...</td>\n",
       "      <td>La réponse est pertinente et explique correcte...</td>\n",
       "      <td>La réponse du chatbot est entièrement fondée s...</td>\n",
       "      <td>0.52</td>\n",
       "    </tr>\n",
       "    <tr>\n",
       "      <th>26</th>\n",
       "      <td>Quel est le rayon de l’image réelle de la Lune...</td>\n",
       "      <td>Pour un diamètre apparent moyen de 30′ (soit u...</td>\n",
       "      <td>Le-telescope-de-Schmidt-Cassegrain.pdf</td>\n",
       "      <td>[20012ce8-c0a7-4ce3-bb06-b56a8ea3b299]</td>\n",
       "      <td>Le rayon de l'image réelle de la Lune dans le ...</td>\n",
       "      <td>1.75</td>\n",
       "      <td>5</td>\n",
       "      <td>5</td>\n",
       "      <td>5</td>\n",
       "      <td>La réponse du chatbot est parfaitement correct...</td>\n",
       "      <td>La réponse est précise et directement pertinen...</td>\n",
       "      <td>La réponse du chatbot mentionne que le rayon d...</td>\n",
       "      <td>0.77</td>\n",
       "    </tr>\n",
       "    <tr>\n",
       "      <th>27</th>\n",
       "      <td>Quel matériau est employé pour la lame de Schm...</td>\n",
       "      <td>La lame est taillée dans un verre borosilicate...</td>\n",
       "      <td>Le-telescope-de-Schmidt-Cassegrain.pdf</td>\n",
       "      <td>[20012ce8-c0a7-4ce3-bb06-b56a8ea3b299]</td>\n",
       "      <td>La lame de Schmidt est réalisée en verre boros...</td>\n",
       "      <td>4.86</td>\n",
       "      <td>4</td>\n",
       "      <td>5</td>\n",
       "      <td>5</td>\n",
       "      <td>La réponse est presque correcte, mais il y a u...</td>\n",
       "      <td>Réponse correcte et précise. Le matériau et la...</td>\n",
       "      <td>La réponse du chatbot est entièrement fondée s...</td>\n",
       "      <td>0.82</td>\n",
       "    </tr>\n",
       "    <tr>\n",
       "      <th>28</th>\n",
       "      <td>Quelle valeur expérimentale de la constante sa...</td>\n",
       "      <td>L’ajustement expérimental montre qu’une valeur...</td>\n",
       "      <td>Le-telescope-de-Schmidt-Cassegrain.pdf</td>\n",
       "      <td>[20012ce8-c0a7-4ce3-bb06-b56a8ea3b299]</td>\n",
       "      <td>La valeur expérimentale de la constante sans d...</td>\n",
       "      <td>2.19</td>\n",
       "      <td>5</td>\n",
       "      <td>5</td>\n",
       "      <td>5</td>\n",
       "      <td>La réponse du chatbot est parfaitement correct...</td>\n",
       "      <td>La réponse est précise et directement pertinen...</td>\n",
       "      <td>La réponse du chatbot mentionne que la constan...</td>\n",
       "      <td>0.58</td>\n",
       "    </tr>\n",
       "    <tr>\n",
       "      <th>29</th>\n",
       "      <td>Pourquoi le réglage de collimation sur ce Schm...</td>\n",
       "      <td>Le miroir secondaire, solidaire de la lame de ...</td>\n",
       "      <td>Le-telescope-de-Schmidt-Cassegrain.pdf</td>\n",
       "      <td>[20012ce8-c0a7-4ce3-bb06-b56a8ea3b299]</td>\n",
       "      <td>Le réglage de collimation sur ce Schmidt-Casse...</td>\n",
       "      <td>63.81</td>\n",
       "      <td>5</td>\n",
       "      <td>5</td>\n",
       "      <td>5</td>\n",
       "      <td>La réponse du chatbot est parfaitement correct...</td>\n",
       "      <td>La réponse est pertinente et explique correcte...</td>\n",
       "      <td>La réponse du chatbot est entièrement fondée s...</td>\n",
       "      <td>0.64</td>\n",
       "    </tr>\n",
       "    <tr>\n",
       "      <th>30</th>\n",
       "      <td>Quel type de télescope est installé à l’observ...</td>\n",
       "      <td>L’instrument est un télescope Schmidt-Cassegra...</td>\n",
       "      <td>Manuel de formation - Telescope.pdf</td>\n",
       "      <td>[b15b8765-ca87-4208-8315-ff05641d8cc5]</td>\n",
       "      <td>L'observatoire de la Pointe du Diable dispose ...</td>\n",
       "      <td>1.34</td>\n",
       "      <td>5</td>\n",
       "      <td>5</td>\n",
       "      <td>5</td>\n",
       "      <td>La réponse du chatbot est parfaitement correct...</td>\n",
       "      <td>La réponse est complète et pertinente, fournis...</td>\n",
       "      <td>La réponse est entièrement fondée sur les info...</td>\n",
       "      <td>0.85</td>\n",
       "    </tr>\n",
       "    <tr>\n",
       "      <th>31</th>\n",
       "      <td>De quoi se compose le contrepoids principal ut...</td>\n",
       "      <td>Le contrepoids principal, fixé en bout de l’ax...</td>\n",
       "      <td>Manuel de formation - Telescope.pdf</td>\n",
       "      <td>[b15b8765-ca87-4208-8315-ff05641d8cc5]</td>\n",
       "      <td>Le contrepoids principal se compose de 2 poids...</td>\n",
       "      <td>31.70</td>\n",
       "      <td>5</td>\n",
       "      <td>5</td>\n",
       "      <td>5</td>\n",
       "      <td>La réponse du chatbot est parfaitement correct...</td>\n",
       "      <td>La réponse est complète et précise, fournissan...</td>\n",
       "      <td>La réponse du chatbot correspond exactement au...</td>\n",
       "      <td>0.85</td>\n",
       "    </tr>\n",
       "    <tr>\n",
       "      <th>32</th>\n",
       "      <td>Quel dispositif assure la synchronisation auto...</td>\n",
       "      <td>Le « dôme tracker » réalise la synchronisation...</td>\n",
       "      <td>Manuel de formation - Telescope.pdf</td>\n",
       "      <td>[b15b8765-ca87-4208-8315-ff05641d8cc5]</td>\n",
       "      <td>Le dispositif « Dome Tracker » assure la synch...</td>\n",
       "      <td>1.88</td>\n",
       "      <td>4</td>\n",
       "      <td>5</td>\n",
       "      <td>5</td>\n",
       "      <td>La réponse est globalement correcte mais manqu...</td>\n",
       "      <td>La réponse est parfaitement pertinente. Elle i...</td>\n",
       "      <td>La réponse du chatbot est entièrement fondée s...</td>\n",
       "      <td>0.85</td>\n",
       "    </tr>\n",
       "    <tr>\n",
       "      <th>33</th>\n",
       "      <td>Quelle capacité de stockage possède le NAS de ...</td>\n",
       "      <td>Le NAS Synology DS216J offre 3 To de stockage ...</td>\n",
       "      <td>Manuel de formation - Telescope.pdf</td>\n",
       "      <td>[b15b8765-ca87-4208-8315-ff05641d8cc5]</td>\n",
       "      <td>Le NAS de l’observatoire possède une capacité ...</td>\n",
       "      <td>0.93</td>\n",
       "      <td>5</td>\n",
       "      <td>5</td>\n",
       "      <td>5</td>\n",
       "      <td>La réponse du chatbot est parfaitement correct...</td>\n",
       "      <td>La réponse est précise et fournit les informat...</td>\n",
       "      <td>La réponse du chatbot est entièrement fondée s...</td>\n",
       "      <td>0.55</td>\n",
       "    </tr>\n",
       "    <tr>\n",
       "      <th>34</th>\n",
       "      <td>Quelles sont l’angle de champ et la résolution...</td>\n",
       "      <td>La caméra AllSky ALPHEA 6CL couleur couvre un ...</td>\n",
       "      <td>Manuel de formation - Telescope.pdf</td>\n",
       "      <td>[b15b8765-ca87-4208-8315-ff05641d8cc5]</td>\n",
       "      <td>L'angle de champ de la caméra AllSky est de 18...</td>\n",
       "      <td>123.24</td>\n",
       "      <td>5</td>\n",
       "      <td>5</td>\n",
       "      <td>5</td>\n",
       "      <td>La réponse du chatbot est parfaitement correct...</td>\n",
       "      <td>La réponse fournit les informations demandées ...</td>\n",
       "      <td>Toutes les informations fournies dans la répon...</td>\n",
       "      <td>0.88</td>\n",
       "    </tr>\n",
       "    <tr>\n",
       "      <th>35</th>\n",
       "      <td>Dans quel ordre doit-on mettre sous tension le...</td>\n",
       "      <td>Il faut successivement : 1) allumer l’onduleur...</td>\n",
       "      <td>Manuel de formation - Telescope.pdf</td>\n",
       "      <td>[b15b8765-ca87-4208-8315-ff05641d8cc5]</td>\n",
       "      <td>On doit mettre sous tension dans l’ordre : l’o...</td>\n",
       "      <td>31.77</td>\n",
       "      <td>5</td>\n",
       "      <td>5</td>\n",
       "      <td>5</td>\n",
       "      <td>La réponse du chatbot est correcte et suit l'o...</td>\n",
       "      <td>La réponse est complète et précise, indiquant ...</td>\n",
       "      <td>La réponse du chatbot est entièrement fondée s...</td>\n",
       "      <td>0.69</td>\n",
       "    </tr>\n",
       "    <tr>\n",
       "      <th>36</th>\n",
       "      <td>Lors de la procédure de mise au zénith, à quel...</td>\n",
       "      <td>La carte du ciel doit être agrandie jusqu’au z...</td>\n",
       "      <td>Manuel de formation - Telescope.pdf</td>\n",
       "      <td>[b15b8765-ca87-4208-8315-ff05641d8cc5]</td>\n",
       "      <td>Pour garantir la précision du réalignement, il...</td>\n",
       "      <td>31.96</td>\n",
       "      <td>5</td>\n",
       "      <td>5</td>\n",
       "      <td>5</td>\n",
       "      <td>La réponse du chatbot est parfaitement correct...</td>\n",
       "      <td>La réponse est précise et pertinente, fourniss...</td>\n",
       "      <td>La réponse du chatbot est entièrement fondée s...</td>\n",
       "      <td>0.86</td>\n",
       "    </tr>\n",
       "    <tr>\n",
       "      <th>37</th>\n",
       "      <td>Quel appareil assure la mise au point micromét...</td>\n",
       "      <td>La mise au point fine est assurée par le focus...</td>\n",
       "      <td>Manuel de formation - Telescope.pdf</td>\n",
       "      <td>[b15b8765-ca87-4208-8315-ff05641d8cc5]</td>\n",
       "      <td>Le focuseur assure la mise au point micrométri...</td>\n",
       "      <td>33.26</td>\n",
       "      <td>3</td>\n",
       "      <td>5</td>\n",
       "      <td>4</td>\n",
       "      <td>La réponse mentionne le focuseur pour la mise ...</td>\n",
       "      <td>La réponse est complète et précise, elle répon...</td>\n",
       "      <td>La réponse est bien fondée sur les documents, ...</td>\n",
       "      <td>0.73</td>\n",
       "    </tr>\n",
       "    <tr>\n",
       "      <th>38</th>\n",
       "      <td>À quoi sert le doubleur VGA installé dans la c...</td>\n",
       "      <td>Le doubleur VGA permet de brancher un écran de...</td>\n",
       "      <td>Manuel de formation - Telescope.pdf</td>\n",
       "      <td>[b15b8765-ca87-4208-8315-ff05641d8cc5]</td>\n",
       "      <td>Le doubleur VGA permet d'avoir un écran de con...</td>\n",
       "      <td>1.35</td>\n",
       "      <td>5</td>\n",
       "      <td>5</td>\n",
       "      <td>5</td>\n",
       "      <td>La réponse du chatbot est parfaitement correct...</td>\n",
       "      <td>La réponse est parfaitement pertinente et répo...</td>\n",
       "      <td>La réponse du chatbot est entièrement fondée s...</td>\n",
       "      <td>0.84</td>\n",
       "    </tr>\n",
       "    <tr>\n",
       "      <th>39</th>\n",
       "      <td>Que doit-on faire en priorité si des condition...</td>\n",
       "      <td>En cas de météo défavorable, la première actio...</td>\n",
       "      <td>Manuel de formation - Telescope.pdf</td>\n",
       "      <td>[b15b8765-ca87-4208-8315-ff05641d8cc5]</td>\n",
       "      <td>En cas de conditions météorologiques défavorab...</td>\n",
       "      <td>34.30</td>\n",
       "      <td>4</td>\n",
       "      <td>4</td>\n",
       "      <td>5</td>\n",
       "      <td>La réponse est presque correcte. Elle mentionn...</td>\n",
       "      <td>La réponse est pertinente et détaillée, mais p...</td>\n",
       "      <td>La réponse du chatbot est entièrement fondée s...</td>\n",
       "      <td>0.54</td>\n",
       "    </tr>\n",
       "    <tr>\n",
       "      <th>40</th>\n",
       "      <td>Que devez-vous faire si, au passage au méridie...</td>\n",
       "      <td>Il faut corriger l’azimut en faisant pivoter l...</td>\n",
       "      <td>méthode-de-Bigourdan.pdf</td>\n",
       "      <td>[f69faa0d-3a96-460a-bfbd-fb875269f840]</td>\n",
       "      <td>Si, au passage au méridien, l’étoile test déri...</td>\n",
       "      <td>33.81</td>\n",
       "      <td>1</td>\n",
       "      <td>5</td>\n",
       "      <td>3</td>\n",
       "      <td>La réponse du chatbot est incorrecte. La dériv...</td>\n",
       "      <td>La réponse est précise et directement pertinen...</td>\n",
       "      <td>La réponse mentionne le désalignement en haute...</td>\n",
       "      <td>0.67</td>\n",
       "    </tr>\n",
       "    <tr>\n",
       "      <th>41</th>\n",
       "      <td>Lorsqu’une étoile circumpolaire observée à l’e...</td>\n",
       "      <td>On doit abaisser légèrement l’axe horaire, c’e...</td>\n",
       "      <td>méthode-de-Bigourdan.pdf</td>\n",
       "      <td>[f69faa0d-3a96-460a-bfbd-fb875269f840]</td>\n",
       "      <td>Si une étoile circumpolaire observée à l’est d...</td>\n",
       "      <td>1.78</td>\n",
       "      <td>5</td>\n",
       "      <td>5</td>\n",
       "      <td>5</td>\n",
       "      <td>La réponse du chatbot est correcte. Elle indiq...</td>\n",
       "      <td>La réponse est correcte et pertinente. Elle ex...</td>\n",
       "      <td>La réponse du chatbot est entièrement fondée s...</td>\n",
       "      <td>0.56</td>\n",
       "    </tr>\n",
       "    <tr>\n",
       "      <th>42</th>\n",
       "      <td>Quelle dérive maximale reste tolérable quand l...</td>\n",
       "      <td>Lorsque |Δφ| est inférieur à 1′, la dérive rés...</td>\n",
       "      <td>méthode-de-Bigourdan.pdf</td>\n",
       "      <td>[f69faa0d-3a96-460a-bfbd-fb875269f840]</td>\n",
       "      <td>Pour une erreur de hauteur du pôle inférieure ...</td>\n",
       "      <td>2.02</td>\n",
       "      <td>5</td>\n",
       "      <td>5</td>\n",
       "      <td>5</td>\n",
       "      <td>La réponse du chatbot est parfaitement correct...</td>\n",
       "      <td>La réponse est précise et directement liée à l...</td>\n",
       "      <td>La réponse du chatbot correspond exactement au...</td>\n",
       "      <td>0.68</td>\n",
       "    </tr>\n",
       "    <tr>\n",
       "      <th>43</th>\n",
       "      <td>Quel défaut résiduel typique subsiste encore a...</td>\n",
       "      <td>Il subsiste un défaut d’environ Δφ ≃ ΔA ≃ 3 × ...</td>\n",
       "      <td>méthode-de-Bigourdan.pdf</td>\n",
       "      <td>[f69faa0d-3a96-460a-bfbd-fb875269f840]</td>\n",
       "      <td>Après une mise en station sur le « pôle réfrac...</td>\n",
       "      <td>5.33</td>\n",
       "      <td>4</td>\n",
       "      <td>5</td>\n",
       "      <td>5</td>\n",
       "      <td>La réponse est globalement correcte, mais la n...</td>\n",
       "      <td>La réponse est parfaitement pertinente et four...</td>\n",
       "      <td>La réponse du chatbot est entièrement fondée s...</td>\n",
       "      <td>0.27</td>\n",
       "    </tr>\n",
       "    <tr>\n",
       "      <th>44</th>\n",
       "      <td>De combien de degrés faut-il tourner chaque vi...</td>\n",
       "      <td>Il faut dévisser symétriquement les deux vis d...</td>\n",
       "      <td>méthode-de-Bigourdan.pdf</td>\n",
       "      <td>[f69faa0d-3a96-460a-bfbd-fb875269f840]</td>\n",
       "      <td>Il faut dévisser symétriquement les deux vis d...</td>\n",
       "      <td>1.05</td>\n",
       "      <td>5</td>\n",
       "      <td>5</td>\n",
       "      <td>5</td>\n",
       "      <td>La réponse du chatbot est factuellement correc...</td>\n",
       "      <td>La réponse est précise et directement pertinen...</td>\n",
       "      <td>La réponse du chatbot est entièrement fondée s...</td>\n",
       "      <td>0.64</td>\n",
       "    </tr>\n",
       "    <tr>\n",
       "      <th>45</th>\n",
       "      <td>Quel accessoire d’observation est recommandé p...</td>\n",
       "      <td>Un oculaire à réticule illuminé est vivement c...</td>\n",
       "      <td>méthode-de-Bigourdan.pdf</td>\n",
       "      <td>[f69faa0d-3a96-460a-bfbd-fb875269f840]</td>\n",
       "      <td>Je ne sais pas.</td>\n",
       "      <td>31.34</td>\n",
       "      <td>0</td>\n",
       "      <td>0</td>\n",
       "      <td>0</td>\n",
       "      <td>Le chatbot n'a pas fourni de réponse, donc auc...</td>\n",
       "      <td>La réponse ne fournit aucune information perti...</td>\n",
       "      <td>La réponse \"Je ne sais pas\" n'est pas basée su...</td>\n",
       "      <td>0.33</td>\n",
       "    </tr>\n",
       "    <tr>\n",
       "      <th>46</th>\n",
       "      <td>Quelle particularité des vis différentielles d...</td>\n",
       "      <td>Chaque vis comporte deux filetages de pas diff...</td>\n",
       "      <td>méthode-de-Bigourdan.pdf</td>\n",
       "      <td>[f69faa0d-3a96-460a-bfbd-fb875269f840]</td>\n",
       "      <td>Les vis différentielles de réglage comportent ...</td>\n",
       "      <td>63.28</td>\n",
       "      <td>5</td>\n",
       "      <td>5</td>\n",
       "      <td>5</td>\n",
       "      <td>La réponse du chatbot est factuellement correc...</td>\n",
       "      <td>La réponse est parfaitement pertinente et expl...</td>\n",
       "      <td>La réponse du chatbot est entièrement fondée s...</td>\n",
       "      <td>0.64</td>\n",
       "    </tr>\n",
       "    <tr>\n",
       "      <th>47</th>\n",
       "      <td>Si l’on effectue un tour complet sur la vis ou...</td>\n",
       "      <td>Cette action déplace l’axe d’environ 6,2 minut...</td>\n",
       "      <td>méthode-de-Bigourdan.pdf</td>\n",
       "      <td>[f69faa0d-3a96-460a-bfbd-fb875269f840]</td>\n",
       "      <td>Un tour complet sur la vis ouest et l'inverse ...</td>\n",
       "      <td>33.23</td>\n",
       "      <td>4</td>\n",
       "      <td>3</td>\n",
       "      <td>5</td>\n",
       "      <td>La réponse est globalement correcte, mais la f...</td>\n",
       "      <td>La réponse mentionne une rotation azimutale, c...</td>\n",
       "      <td>La réponse est entièrement fondée sur les docu...</td>\n",
       "      <td>0.52</td>\n",
       "    </tr>\n",
       "    <tr>\n",
       "      <th>48</th>\n",
       "      <td>Avant de commencer les mesures, quel réglage d...</td>\n",
       "      <td>Il faut vérifier que la monture suit exactemen...</td>\n",
       "      <td>méthode-de-Bigourdan.pdf</td>\n",
       "      <td>[f69faa0d-3a96-460a-bfbd-fb875269f840]</td>\n",
       "      <td>Vous devez confirmer que la vitesse angulaire ...</td>\n",
       "      <td>1.56</td>\n",
       "      <td>5</td>\n",
       "      <td>5</td>\n",
       "      <td>5</td>\n",
       "      <td>La réponse du chatbot est parfaitement correct...</td>\n",
       "      <td>La réponse est précise et pertinente, elle rép...</td>\n",
       "      <td>La réponse du chatbot est entièrement fondée s...</td>\n",
       "      <td>0.60</td>\n",
       "    </tr>\n",
       "    <tr>\n",
       "      <th>49</th>\n",
       "      <td>Pourquoi la méthode conseille-t-elle de choisi...</td>\n",
       "      <td>Au méridien, l’erreur d’azimut produit l’effet...</td>\n",
       "      <td>méthode-de-Bigourdan.pdf</td>\n",
       "      <td>[f69faa0d-3a96-460a-bfbd-fb875269f840]</td>\n",
       "      <td>La méthode conseille de choisir une étoile pro...</td>\n",
       "      <td>1.59</td>\n",
       "      <td>3</td>\n",
       "      <td>4</td>\n",
       "      <td>3</td>\n",
       "      <td>La réponse mentionne la réfraction atmosphériq...</td>\n",
       "      <td>La réponse est globalement correcte. Elle ment...</td>\n",
       "      <td>La réponse mentionne des éléments présents dan...</td>\n",
       "      <td>0.50</td>\n",
       "    </tr>\n",
       "    <tr>\n",
       "      <th>50</th>\n",
       "      <td>Quel type de monture et quel mécanisme d’entra...</td>\n",
       "      <td>Les instruments sont installés sur une monture...</td>\n",
       "      <td>Pointage-et-suivi-automatiques.pdf</td>\n",
       "      <td>[e087927a-1860-4398-ae73-1a962061a835]</td>\n",
       "      <td>Les instruments de l'observatoire de la Pointe...</td>\n",
       "      <td>2.10</td>\n",
       "      <td>4</td>\n",
       "      <td>5</td>\n",
       "      <td>5</td>\n",
       "      <td>La réponse du chatbot est presque correcte, ma...</td>\n",
       "      <td>La réponse est parfaitement pertinente et déta...</td>\n",
       "      <td>La réponse du chatbot est entièrement fondée s...</td>\n",
       "      <td>0.77</td>\n",
       "    </tr>\n",
       "    <tr>\n",
       "      <th>51</th>\n",
       "      <td>Quelle vitesse de guidage, exprimée en micro-p...</td>\n",
       "      <td>Une vitesse de 106,959 µpas /s correspond rigo...</td>\n",
       "      <td>Pointage-et-suivi-automatiques.pdf</td>\n",
       "      <td>[e087927a-1860-4398-ae73-1a962061a835]</td>\n",
       "      <td>La vitesse de guidage de 106.959 µpas/s corres...</td>\n",
       "      <td>63.02</td>\n",
       "      <td>5</td>\n",
       "      <td>5</td>\n",
       "      <td>5</td>\n",
       "      <td>La réponse du chatbot est factuellement correc...</td>\n",
       "      <td>La réponse est parfaitement pertinente et préc...</td>\n",
       "      <td>La réponse du chatbot est entièrement fondée s...</td>\n",
       "      <td>0.75</td>\n",
       "    </tr>\n",
       "    <tr>\n",
       "      <th>52</th>\n",
       "      <td>Quelle précision angulaire est visée pour le p...</td>\n",
       "      <td>Le système vise une erreur de pointage inférie...</td>\n",
       "      <td>Pointage-et-suivi-automatiques.pdf</td>\n",
       "      <td>[e087927a-1860-4398-ae73-1a962061a835]</td>\n",
       "      <td>La précision angulaire visée pour le pointage ...</td>\n",
       "      <td>123.38</td>\n",
       "      <td>5</td>\n",
       "      <td>5</td>\n",
       "      <td>5</td>\n",
       "      <td>La réponse du chatbot est parfaitement correct...</td>\n",
       "      <td>La réponse est précise et pertinente. Elle fou...</td>\n",
       "      <td>La réponse du chatbot est entièrement fondée s...</td>\n",
       "      <td>0.76</td>\n",
       "    </tr>\n",
       "    <tr>\n",
       "      <th>53</th>\n",
       "      <td>À quelle fraction de tour de la vis sans fin e...</td>\n",
       "      <td>Un micro-pas vaut $\\tfrac{1}{92\\,160}$ de tour...</td>\n",
       "      <td>Pointage-et-suivi-automatiques.pdf</td>\n",
       "      <td>[e087927a-1860-4398-ae73-1a962061a835]</td>\n",
       "      <td>Un micro-pas du moteur pas-à-pas correspond à ...</td>\n",
       "      <td>3.85</td>\n",
       "      <td>5</td>\n",
       "      <td>4</td>\n",
       "      <td>5</td>\n",
       "      <td>La réponse du chatbot est parfaitement correct...</td>\n",
       "      <td>La réponse est pertinente et précise, mais pou...</td>\n",
       "      <td>La réponse du chatbot est entièrement fondée s...</td>\n",
       "      <td>0.64</td>\n",
       "    </tr>\n",
       "    <tr>\n",
       "      <th>54</th>\n",
       "      <td>Quelles méthodes complémentaires la documentat...</td>\n",
       "      <td>Outre l’usinage soigné de la vis sans fin, ell...</td>\n",
       "      <td>Pointage-et-suivi-automatiques.pdf</td>\n",
       "      <td>[e087927a-1860-4398-ae73-1a962061a835]</td>\n",
       "      <td>Pour améliorer la précision de la poursuite ph...</td>\n",
       "      <td>1.58</td>\n",
       "      <td>4</td>\n",
       "      <td>5</td>\n",
       "      <td>5</td>\n",
       "      <td>La réponse du chatbot est presque complète mai...</td>\n",
       "      <td>La réponse est pertinente et complète, mention...</td>\n",
       "      <td>La réponse est entièrement fondée sur les info...</td>\n",
       "      <td>0.66</td>\n",
       "    </tr>\n",
       "    <tr>\n",
       "      <th>55</th>\n",
       "      <td>Quel dispositif assure la synchronisation entr...</td>\n",
       "      <td>Le dispositif électronique « dome-tracker » re...</td>\n",
       "      <td>Pointage-et-suivi-automatiques.pdf</td>\n",
       "      <td>[e087927a-1860-4398-ae73-1a962061a835]</td>\n",
       "      <td>Le dispositif « Dome Tracker » assure la synch...</td>\n",
       "      <td>1.31</td>\n",
       "      <td>3</td>\n",
       "      <td>5</td>\n",
       "      <td>4</td>\n",
       "      <td>La réponse mentionne correctement le dispositi...</td>\n",
       "      <td>La réponse est précise et pertinente. Elle ide...</td>\n",
       "      <td>La réponse est principalement fondée sur les d...</td>\n",
       "      <td>0.69</td>\n",
       "    </tr>\n",
       "    <tr>\n",
       "      <th>56</th>\n",
       "      <td>Quels paramètres météorologiques le boîtier SE...</td>\n",
       "      <td>Le SENTINEL mesure la pression atmosphérique, ...</td>\n",
       "      <td>Pointage-et-suivi-automatiques.pdf</td>\n",
       "      <td>[e087927a-1860-4398-ae73-1a962061a835]</td>\n",
       "      <td>Le boîtier SENTINEL surveille plusieurs paramè...</td>\n",
       "      <td>35.20</td>\n",
       "      <td>5</td>\n",
       "      <td>5</td>\n",
       "      <td>5</td>\n",
       "      <td>La réponse du chatbot est parfaitement correct...</td>\n",
       "      <td>La réponse est complète et pertinente, couvran...</td>\n",
       "      <td>La réponse du chatbot est entièrement fondée s...</td>\n",
       "      <td>0.84</td>\n",
       "    </tr>\n",
       "    <tr>\n",
       "      <th>57</th>\n",
       "      <td>Quels sont les principaux avantages mécaniques...</td>\n",
       "      <td>La monture altazimutale est plus simple à cons...</td>\n",
       "      <td>Pointage-et-suivi-automatiques.pdf</td>\n",
       "      <td>[e087927a-1860-4398-ae73-1a962061a835]</td>\n",
       "      <td>Les montures altazimutales sont plus simples à...</td>\n",
       "      <td>1.06</td>\n",
       "      <td>5</td>\n",
       "      <td>4</td>\n",
       "      <td>5</td>\n",
       "      <td>La réponse du chatbot est parfaitement correct...</td>\n",
       "      <td>La réponse est pertinente et mentionne des ava...</td>\n",
       "      <td>La réponse correspond exactement aux informati...</td>\n",
       "      <td>0.89</td>\n",
       "    </tr>\n",
       "    <tr>\n",
       "      <th>58</th>\n",
       "      <td>Pourquoi la monture équatoriale allemande de l...</td>\n",
       "      <td>L’axe optique étant déporté sur une monture éq...</td>\n",
       "      <td>Pointage-et-suivi-automatiques.pdf</td>\n",
       "      <td>[e087927a-1860-4398-ae73-1a962061a835]</td>\n",
       "      <td>La monture équatoriale allemande nécessite un ...</td>\n",
       "      <td>64.41</td>\n",
       "      <td>5</td>\n",
       "      <td>5</td>\n",
       "      <td>5</td>\n",
       "      <td>La réponse du chatbot est factuellement correc...</td>\n",
       "      <td>La réponse est parfaitement pertinente et expl...</td>\n",
       "      <td>La réponse du chatbot est entièrement fondée s...</td>\n",
       "      <td>0.80</td>\n",
       "    </tr>\n",
       "    <tr>\n",
       "      <th>59</th>\n",
       "      <td>Quelle valeur de la durée du jour sidéral $T_{...</td>\n",
       "      <td>La formule emploie $T_{\\text{sid}} = 23\\,\\text...</td>\n",
       "      <td>Pointage-et-suivi-automatiques.pdf</td>\n",
       "      <td>[e087927a-1860-4398-ae73-1a962061a835]</td>\n",
       "      <td>Je ne sais pas.</td>\n",
       "      <td>31.13</td>\n",
       "      <td>0</td>\n",
       "      <td>0</td>\n",
       "      <td>5</td>\n",
       "      <td>Le chatbot n'a pas fourni de réponse, ce qui e...</td>\n",
       "      <td>La réponse est hors-sujet et ne fournit aucune...</td>\n",
       "      <td>La réponse \"Je ne sais pas\" est appropriée éta...</td>\n",
       "      <td>0.25</td>\n",
       "    </tr>\n",
       "    <tr>\n",
       "      <th>60</th>\n",
       "      <td>Quelle alimentation électrique (tension, coura...</td>\n",
       "      <td>La STF-8300 doit être alimentée en courant con...</td>\n",
       "      <td>stf-8300_manual_12.pdf</td>\n",
       "      <td>[63c063d2-7b8b-4f61-9942-7ba13996721f]</td>\n",
       "      <td>La caméra STF-8300 nécessite une alimentation ...</td>\n",
       "      <td>34.14</td>\n",
       "      <td>4</td>\n",
       "      <td>5</td>\n",
       "      <td>5</td>\n",
       "      <td>La réponse est globalement correcte, mais elle...</td>\n",
       "      <td>La réponse est complète et pertinente, fournis...</td>\n",
       "      <td>La réponse du chatbot est entièrement fondée s...</td>\n",
       "      <td>0.52</td>\n",
       "    </tr>\n",
       "    <tr>\n",
       "      <th>61</th>\n",
       "      <td>Quelle est la longueur maximale du câble USB f...</td>\n",
       "      <td>Le câble USB 2 fourni mesure 15 pieds, soit en...</td>\n",
       "      <td>stf-8300_manual_12.pdf</td>\n",
       "      <td>[63c063d2-7b8b-4f61-9942-7ba13996721f]</td>\n",
       "      <td>La longueur maximale du câble USB fourni est d...</td>\n",
       "      <td>125.93</td>\n",
       "      <td>4</td>\n",
       "      <td>4</td>\n",
       "      <td>5</td>\n",
       "      <td>La réponse du chatbot est globalement correcte...</td>\n",
       "      <td>La réponse est pertinente et fournit des solut...</td>\n",
       "      <td>La réponse du chatbot est entièrement fondée s...</td>\n",
       "      <td>0.86</td>\n",
       "    </tr>\n",
       "    <tr>\n",
       "      <th>62</th>\n",
       "      <td>Quel écart de température maximal le refroidis...</td>\n",
       "      <td>Le module TE peut abaisser la température du c...</td>\n",
       "      <td>stf-8300_manual_12.pdf</td>\n",
       "      <td>[63c063d2-7b8b-4f61-9942-7ba13996721f]</td>\n",
       "      <td>Le refroidissement thermo-électrique (TE) de l...</td>\n",
       "      <td>32.14</td>\n",
       "      <td>5</td>\n",
       "      <td>5</td>\n",
       "      <td>5</td>\n",
       "      <td>La réponse du chatbot est parfaitement correct...</td>\n",
       "      <td>La réponse est précise et répond parfaitement ...</td>\n",
       "      <td>Toutes les informations données par le chatbot...</td>\n",
       "      <td>0.55</td>\n",
       "    </tr>\n",
       "    <tr>\n",
       "      <th>63</th>\n",
       "      <td>Pourquoi le manuel interdit-il de brancher ou ...</td>\n",
       "      <td>Le connecteur d’alimentation n’est pas prévu p...</td>\n",
       "      <td>stf-8300_manual_12.pdf</td>\n",
       "      <td>[63c063d2-7b8b-4f61-9942-7ba13996721f]</td>\n",
       "      <td>Je ne sais pas.</td>\n",
       "      <td>31.75</td>\n",
       "      <td>0</td>\n",
       "      <td>0</td>\n",
       "      <td>0</td>\n",
       "      <td>Le chatbot n'a pas fourni de réponse.</td>\n",
       "      <td>La réponse ne fournit aucune information perti...</td>\n",
       "      <td>La réponse \"Je ne sais pas\" n'est pas fondée s...</td>\n",
       "      <td>0.44</td>\n",
       "    </tr>\n",
       "    <tr>\n",
       "      <th>64</th>\n",
       "      <td>Quels cavaliers près du port télescope permett...</td>\n",
       "      <td>Le cavalier J9 broches 1-2 met le signal Commo...</td>\n",
       "      <td>stf-8300_manual_12.pdf</td>\n",
       "      <td>[63c063d2-7b8b-4f61-9942-7ba13996721f]</td>\n",
       "      <td>1) Le cavalier J9 Pin 1 à 2 permet de relier l...</td>\n",
       "      <td>32.02</td>\n",
       "      <td>5</td>\n",
       "      <td>5</td>\n",
       "      <td>5</td>\n",
       "      <td>La réponse du chatbot est parfaitement correct...</td>\n",
       "      <td>La réponse est précise et répond parfaitement ...</td>\n",
       "      <td>Les informations fournies par le chatbot corre...</td>\n",
       "      <td>0.80</td>\n",
       "    </tr>\n",
       "    <tr>\n",
       "      <th>65</th>\n",
       "      <td>Quelle procédure précise le manuel pour régéné...</td>\n",
       "      <td>Dévisser le bouchon dessiccant du flanc opposé...</td>\n",
       "      <td>stf-8300_manual_12.pdf</td>\n",
       "      <td>[63c063d2-7b8b-4f61-9942-7ba13996721f]</td>\n",
       "      <td>Pour régénérer le bouchon dessiccant en cas de...</td>\n",
       "      <td>38.70</td>\n",
       "      <td>3</td>\n",
       "      <td>3</td>\n",
       "      <td>5</td>\n",
       "      <td>La réponse du chatbot contient des éléments co...</td>\n",
       "      <td>La réponse donne des étapes pour régénérer le ...</td>\n",
       "      <td>La réponse du chatbot est entièrement fondée s...</td>\n",
       "      <td>0.62</td>\n",
       "    </tr>\n",
       "    <tr>\n",
       "      <th>66</th>\n",
       "      <td>Selon les spécifications, quel est le courant ...</td>\n",
       "      <td>À −10 °C, le courant d’obscurité typique est d...</td>\n",
       "      <td>stf-8300_manual_12.pdf</td>\n",
       "      <td>[63c063d2-7b8b-4f61-9942-7ba13996721f]</td>\n",
       "      <td>Le courant d'obscurité typique à −10 °C est de...</td>\n",
       "      <td>1.81</td>\n",
       "      <td>5</td>\n",
       "      <td>5</td>\n",
       "      <td>5</td>\n",
       "      <td>La réponse du chatbot est parfaitement correct...</td>\n",
       "      <td>La réponse est complète et précise, fournissan...</td>\n",
       "      <td>Toutes les informations fournies dans la répon...</td>\n",
       "      <td>0.75</td>\n",
       "    </tr>\n",
       "    <tr>\n",
       "      <th>67</th>\n",
       "      <td>Dans CCDOps, quel réglage permet de réutiliser...</td>\n",
       "      <td>Dans « Camera Setup », placer « Reuse dark fra...</td>\n",
       "      <td>stf-8300_manual_12.pdf</td>\n",
       "      <td>[63c063d2-7b8b-4f61-9942-7ba13996721f]</td>\n",
       "      <td>Je ne sais pas.</td>\n",
       "      <td>31.59</td>\n",
       "      <td>0</td>\n",
       "      <td>0</td>\n",
       "      <td>0</td>\n",
       "      <td>Le chatbot n'a pas fourni de réponse.</td>\n",
       "      <td>La réponse ne fournit aucune information perti...</td>\n",
       "      <td>La réponse \"Je ne sais pas\" n'est basée sur au...</td>\n",
       "      <td>0.24</td>\n",
       "    </tr>\n",
       "    <tr>\n",
       "      <th>68</th>\n",
       "      <td>Quel mode de la commande « Focus » augmente fo...</td>\n",
       "      <td>Le « Planet mode » : après une première image ...</td>\n",
       "      <td>stf-8300_manual_12.pdf</td>\n",
       "      <td>[63c063d2-7b8b-4f61-9942-7ba13996721f]</td>\n",
       "      <td>Le mode « Planet » augmente fortement la caden...</td>\n",
       "      <td>32.75</td>\n",
       "      <td>5</td>\n",
       "      <td>4</td>\n",
       "      <td>5</td>\n",
       "      <td>La réponse du chatbot est parfaitement correct...</td>\n",
       "      <td>La réponse est pertinente et explique bien le ...</td>\n",
       "      <td>La réponse du chatbot est entièrement fondée s...</td>\n",
       "      <td>0.81</td>\n",
       "    </tr>\n",
       "    <tr>\n",
       "      <th>69</th>\n",
       "      <td>Citez trois accessoires optionnels spécifiquem...</td>\n",
       "      <td>Parmi les accessoires dédiés : 1) les roues à ...</td>\n",
       "      <td>stf-8300_manual_12.pdf</td>\n",
       "      <td>[63c063d2-7b8b-4f61-9942-7ba13996721f]</td>\n",
       "      <td>Les accessoires optionnels spécifiquement prop...</td>\n",
       "      <td>2.32</td>\n",
       "      <td>3</td>\n",
       "      <td>5</td>\n",
       "      <td>5</td>\n",
       "      <td>La réponse est partiellement correcte. Le chat...</td>\n",
       "      <td>La réponse est pertinente et précise, citant t...</td>\n",
       "      <td>La réponse du chatbot est entièrement fondée s...</td>\n",
       "      <td>0.63</td>\n",
       "    </tr>\n",
       "    <tr>\n",
       "      <th>70</th>\n",
       "      <td>Quel numéro de port HTTP le guide indique-t-il...</td>\n",
       "      <td>Le guide précise que l’on accède à DSM en tapa...</td>\n",
       "      <td>Syno_UsersGuide_NAServer_fra.pdf</td>\n",
       "      <td>[819424af-a2ad-47a3-ac90-a2432349ca0a]</td>\n",
       "      <td>Le guide indique que le numéro de port HTTP pa...</td>\n",
       "      <td>1.10</td>\n",
       "      <td>5</td>\n",
       "      <td>5</td>\n",
       "      <td>5</td>\n",
       "      <td>La réponse du chatbot est parfaitement correct...</td>\n",
       "      <td>La réponse est correcte et précise, fournissan...</td>\n",
       "      <td>La réponse du chatbot est entièrement fondée s...</td>\n",
       "      <td>0.83</td>\n",
       "    </tr>\n",
       "    <tr>\n",
       "      <th>71</th>\n",
       "      <td>Comment réinitialiser le mot de passe du compt...</td>\n",
       "      <td>Appuyer sur le bouton RESET à l’arrière du Syn...</td>\n",
       "      <td>Syno_UsersGuide_NAServer_fra.pdf</td>\n",
       "      <td>[819424af-a2ad-47a3-ac90-a2432349ca0a]</td>\n",
       "      <td>Pour réinitialiser le mot de passe du compte «...</td>\n",
       "      <td>1.82</td>\n",
       "      <td>5</td>\n",
       "      <td>1</td>\n",
       "      <td>5</td>\n",
       "      <td>La réponse est parfaitement correcte et corres...</td>\n",
       "      <td>La réponse mentionne une procédure de réinitia...</td>\n",
       "      <td>La réponse du chatbot correspond exactement au...</td>\n",
       "      <td>0.88</td>\n",
       "    </tr>\n",
       "    <tr>\n",
       "      <th>72</th>\n",
       "      <td>Quel est le nombre maximal d’instantanés que l...</td>\n",
       "      <td>Un iSCSI LUN peut contenir jusqu’à 256 instant...</td>\n",
       "      <td>Syno_UsersGuide_NAServer_fra.pdf</td>\n",
       "      <td>[819424af-a2ad-47a3-ac90-a2432349ca0a]</td>\n",
       "      <td>Vous pouvez créer jusqu’à 256 instantanés par ...</td>\n",
       "      <td>0.87</td>\n",
       "      <td>5</td>\n",
       "      <td>5</td>\n",
       "      <td>5</td>\n",
       "      <td>La réponse du chatbot est factuellement correc...</td>\n",
       "      <td>La réponse est précise et directement pertinen...</td>\n",
       "      <td>La réponse du chatbot mentionne que l'on peut ...</td>\n",
       "      <td>0.81</td>\n",
       "    </tr>\n",
       "    <tr>\n",
       "      <th>73</th>\n",
       "      <td>Quelle est, d’après le guide, la taille maxima...</td>\n",
       "      <td>La capacité maximale qu’un tel volume peut att...</td>\n",
       "      <td>Syno_UsersGuide_NAServer_fra.pdf</td>\n",
       "      <td>[819424af-a2ad-47a3-ac90-a2432349ca0a]</td>\n",
       "      <td>La taille maximale d'un volume qui peut être a...</td>\n",
       "      <td>35.04</td>\n",
       "      <td>5</td>\n",
       "      <td>3</td>\n",
       "      <td>5</td>\n",
       "      <td>La réponse du chatbot est parfaitement correct...</td>\n",
       "      <td>La réponse mentionne une taille maximale de 20...</td>\n",
       "      <td>La réponse est entièrement fondée sur les info...</td>\n",
       "      <td>0.69</td>\n",
       "    </tr>\n",
       "    <tr>\n",
       "      <th>74</th>\n",
       "      <td>Combien de disques durs au minimum faut-il ins...</td>\n",
       "      <td>La configuration RAID 5 requiert au moins troi...</td>\n",
       "      <td>Syno_UsersGuide_NAServer_fra.pdf</td>\n",
       "      <td>[819424af-a2ad-47a3-ac90-a2432349ca0a]</td>\n",
       "      <td>Pour créer un volume RAID 5, il faut installer...</td>\n",
       "      <td>2.65</td>\n",
       "      <td>5</td>\n",
       "      <td>5</td>\n",
       "      <td>5</td>\n",
       "      <td>La réponse du chatbot est parfaitement correct...</td>\n",
       "      <td>La réponse est correcte et précise. Le RAID 5 ...</td>\n",
       "      <td>La réponse du chatbot est entièrement fondée s...</td>\n",
       "      <td>0.74</td>\n",
       "    </tr>\n",
       "    <tr>\n",
       "      <th>75</th>\n",
       "      <td>Quelle fonction doit être activée pour amélior...</td>\n",
       "      <td>Il faut activer la fonction « SSD TRIM », spéc...</td>\n",
       "      <td>Syno_UsersGuide_NAServer_fra.pdf</td>\n",
       "      <td>[819424af-a2ad-47a3-ac90-a2432349ca0a]</td>\n",
       "      <td>Pour améliorer les performances de lecture et ...</td>\n",
       "      <td>5.39</td>\n",
       "      <td>5</td>\n",
       "      <td>5</td>\n",
       "      <td>5</td>\n",
       "      <td>La réponse du chatbot est correcte et complète...</td>\n",
       "      <td>La réponse est pertinente et précise. Elle men...</td>\n",
       "      <td>La réponse du chatbot est entièrement fondée s...</td>\n",
       "      <td>0.77</td>\n",
       "    </tr>\n",
       "    <tr>\n",
       "      <th>76</th>\n",
       "      <td>Quelles sont les deux formes d’URL proposées p...</td>\n",
       "      <td>Le guide recommande d’utiliser soit « http://S...</td>\n",
       "      <td>Syno_UsersGuide_NAServer_fra.pdf</td>\n",
       "      <td>[819424af-a2ad-47a3-ac90-a2432349ca0a]</td>\n",
       "      <td>Les deux formes d’URL proposées pour se connec...</td>\n",
       "      <td>1.86</td>\n",
       "      <td>5</td>\n",
       "      <td>5</td>\n",
       "      <td>5</td>\n",
       "      <td>La réponse du chatbot est parfaitement correct...</td>\n",
       "      <td>La réponse est correcte et pertinente. Elle do...</td>\n",
       "      <td>Les informations fournies dans la réponse corr...</td>\n",
       "      <td>0.87</td>\n",
       "    </tr>\n",
       "    <tr>\n",
       "      <th>77</th>\n",
       "      <td>Quel widget permet de surveiller en temps réel...</td>\n",
       "      <td>Le widget « Moniteur de ressources » affiche e...</td>\n",
       "      <td>Syno_UsersGuide_NAServer_fra.pdf</td>\n",
       "      <td>[819424af-a2ad-47a3-ac90-a2432349ca0a]</td>\n",
       "      <td>Le widget \"Moniteur de ressources\" permet de s...</td>\n",
       "      <td>32.13</td>\n",
       "      <td>5</td>\n",
       "      <td>5</td>\n",
       "      <td>5</td>\n",
       "      <td>La réponse du chatbot est parfaitement correct...</td>\n",
       "      <td>La réponse est parfaitement pertinente et répo...</td>\n",
       "      <td>La réponse du chatbot est entièrement fondée s...</td>\n",
       "      <td>0.85</td>\n",
       "    </tr>\n",
       "    <tr>\n",
       "      <th>78</th>\n",
       "      <td>Quelle mesure de sécurité supplémentaire peut-...</td>\n",
       "      <td>La « vérification en 2 étapes » (authentificat...</td>\n",
       "      <td>Syno_UsersGuide_NAServer_fra.pdf</td>\n",
       "      <td>[819424af-a2ad-47a3-ac90-a2432349ca0a]</td>\n",
       "      <td>La vérification en 2 étapes. Elle nécessite un...</td>\n",
       "      <td>1.81</td>\n",
       "      <td>5</td>\n",
       "      <td>5</td>\n",
       "      <td>5</td>\n",
       "      <td>La réponse est parfaitement correcte et contie...</td>\n",
       "      <td>La réponse est exacte et pertinente. La vérifi...</td>\n",
       "      <td>La réponse est entièrement fondée sur les info...</td>\n",
       "      <td>0.85</td>\n",
       "    </tr>\n",
       "    <tr>\n",
       "      <th>79</th>\n",
       "      <td>Lorsqu’on étend un volume SHR en remplaçant de...</td>\n",
       "      <td>Chaque disque de remplacement doit avoir une c...</td>\n",
       "      <td>Syno_UsersGuide_NAServer_fra.pdf</td>\n",
       "      <td>[819424af-a2ad-47a3-ac90-a2432349ca0a]</td>\n",
       "      <td>Chaque nouveau disque doit être au moins égal ...</td>\n",
       "      <td>1.71</td>\n",
       "      <td>5</td>\n",
       "      <td>4</td>\n",
       "      <td>4</td>\n",
       "      <td>La réponse du chatbot est parfaitement correct...</td>\n",
       "      <td>La réponse est presque complète et correcte. E...</td>\n",
       "      <td>La réponse est principalement fondée sur les d...</td>\n",
       "      <td>0.78</td>\n",
       "    </tr>\n",
       "  </tbody>\n",
       "</table>\n",
       "</div>"
      ],
      "text/plain": [
       "                        question                                            answer                                       doc_name                            support_doc_ids                                 prediction                      latency  note_correct  note_relevance  note_faithfulness                explication_correct                               explication_relevance                             explication_faithfulness               semantic_sim\n",
       "0   Quelle est la toute première étape avant d’uti...  Il faut d’abord déverrouiller la porte de l’ob...        astro-procedures-resume-anon.pdf  [30c60136-2d70-4dc2-975d-3035c5a04266]  La toute première étape avant d’utiliser le té...   33.88         3              5                4          La réponse du chatbot contient des information...  La réponse est complète et pertinente, couvran...  La réponse du chatbot est principalement basée...      0.61    \n",
       "1   Où se trouve le bouton vert qu’il faut allumer...  Le bouton vert se trouve sur la multiprise ins...        astro-procedures-resume-anon.pdf  [30c60136-2d70-4dc2-975d-3035c5a04266]  Le bouton vert se trouve sur la multiprise. Po...    2.90         4              5                5          La réponse du chatbot est presque correcte mai...  La réponse est précise et directement pertinen...  La réponse du chatbot est entièrement fondée s...      0.76    \n",
       "2   Quel logiciel doit-on utiliser pour générer un...  On lance Prism pour générer la carte du ciel, ...        astro-procedures-resume-anon.pdf  [30c60136-2d70-4dc2-975d-3035c5a04266]                                    Je ne sais pas.    0.93         0              0                0          Le chatbot n'a pas fourni de réponse à la ques...  La réponse est hors-sujet et ne fournit aucune...  La réponse du chatbot \"Je ne sais pas.\" n'est ...      0.36    \n",
       "3   Que doit-on faire de l’oculaire une fois chois...  L’oculaire choisi doit être placé dans le port...        astro-procedures-resume-anon.pdf  [30c60136-2d70-4dc2-975d-3035c5a04266]  Une fois l'oculaire choisi, il faut le branche...   31.68         2              4                5          La réponse du chatbot contient des erreurs imp...  La réponse est globalement pertinente. Elle me...  La réponse du chatbot est entièrement fondée s...      0.44    \n",
       "4   Quelle commande spécifique faut-il exécuter da...  Il faut lancer la commande « Init. Reset » dan...        astro-procedures-resume-anon.pdf  [30c60136-2d70-4dc2-975d-3035c5a04266]  Après la mise en route, dans le module « Contr...    3.11         2              3                5          La réponse du chatbot contient des éléments co...  La réponse mentionne des actions spécifiques à...  La réponse du chatbot est entièrement fondée s...      0.69    \n",
       "5   Lorsqu’il n’est pas en mode parking, à quelle ...  Le télescope doit être repositionné au zénith,...        astro-procedures-resume-anon.pdf  [30c60136-2d70-4dc2-975d-3035c5a04266]  Lorsqu’il n’est pas en mode parking, il faut r...    1.55         5              5                5          La réponse du chatbot est parfaitement correct...  La réponse est correcte et pertinente. Le téle...  La réponse est entièrement fondée sur les docu...      0.77    \n",
       "6   Comment pointer un objet et synchroniser le té...  Dans Prism, on pointe l’objet dans la carte du...        astro-procedures-resume-anon.pdf  [30c60136-2d70-4dc2-975d-3035c5a04266]  Pour pointer un objet et synchroniser le téles...    5.01         3              4                5          La réponse est presque correcte mais ajoute un...  La réponse est pertinente et donne des étapes ...  La réponse du chatbot est entièrement fondée s...      0.76    \n",
       "7   Quelles opérations successives doit-on effectu...  Avant de quitter : exécuter « Parking » dans «...        astro-procedures-resume-anon.pdf  [30c60136-2d70-4dc2-975d-3035c5a04266]  Avant de quitter la session, il faut d'abord c...    2.76         2              4                5          La réponse du chatbot contient des éléments co...  La réponse est pertinente et détaillée, mais i...  La réponse du chatbot est entièrement fondée s...      0.51    \n",
       "8   Après avoir rangé l’oculaire, quelles sources ...  Il faut éteindre le bouton vert de la multipri...        astro-procedures-resume-anon.pdf  [30c60136-2d70-4dc2-975d-3035c5a04266]  Après avoir rangé l'oculaire, il faut couper l...    1.65         3              5                4          La réponse du chatbot contient des éléments co...  La réponse est complète et pertinente, couvran...  La réponse est presque entièrement fondée sur ...      0.52    \n",
       "9   Où doit-on ranger la clé une fois l’observatoi...  La clé doit être déposée dans la boîte aux let...        astro-procedures-resume-anon.pdf  [30c60136-2d70-4dc2-975d-3035c5a04266]  La clé doit être rangée dans la boîte aux lett...    0.81         5              0                5          La réponse du chatbot est parfaitement correct...  La réponse est hors-sujet. Ranger la clé dans ...  La réponse du chatbot est entièrement fondée s...      0.65    \n",
       "10  Pourquoi le coronographe de l’observatoire com...  Le diamètre apparent du Soleil varie d’environ...             Le-coronographe-de-Lyot.pdf  [b6fedda4-780a-4059-a594-df751a5a6d7c]  Le coronographe comporte cinq cônes obturateur...   32.46         5              5                5          La réponse du chatbot est parfaitement correct...  La réponse est parfaitement pertinente et expl...  La réponse du chatbot est entièrement fondée s...      0.84    \n",
       "11  Quelle est la première action du montage de Ly...  La première étape consiste à placer un cône mé...             Le-coronographe-de-Lyot.pdf  [b6fedda4-780a-4059-a594-df751a5a6d7c]  La première action du montage de Lyot dans le ...    7.10         3              5                4          La réponse mentionne correctement l'effet de c...  La réponse est pertinente et correcte. Elle dé...  La réponse est principalement fondée sur le co...      0.66    \n",
       "12  Dans la deuxième action du montage de Lyot, qu...  Une lentille L2 forme l’image pupillaire de l’...             Le-coronographe-de-Lyot.pdf  [b6fedda4-780a-4059-a594-df751a5a6d7c]  Un diaphragme circulaire est utilisé pour supp...    3.23         4              5                5          La réponse est presque correcte mais manque de...  La réponse est précise et correcte. Elle ident...  La réponse du chatbot est entièrement fondée s...      0.51    \n",
       "13  Quelle lentille réalise l’image de la couronne...  La lentille convergente L3, placée après le di...             Le-coronographe-de-Lyot.pdf  [b6fedda4-780a-4059-a594-df751a5a6d7c]  La lentille L3 réalise l’image de la couronne ...    1.47         5              5                5          La réponse du chatbot est parfaitement correct...  La réponse est précise et pertinente. Elle ide...  La réponse du chatbot est entièrement fondée s...      0.87    \n",
       "14  Pourquoi le bleu du ciel est-il considéré comm...  La diffusion Rayleigh dans l’atmosphère est pr...             Le-coronographe-de-Lyot.pdf  [b6fedda4-780a-4059-a594-df751a5a6d7c]  Le bleu du ciel est considéré comme l’« ennemi...    4.36         3              5                5          La réponse du chatbot n'est pas totalement fau...  La réponse est pertinente et explique claireme...  La réponse est entièrement fondée sur le conte...      0.37    \n",
       "15  De quoi se compose une cellule élémentaire d’u...  Chaque cellule comprend une lame de spath d’Is...             Le-coronographe-de-Lyot.pdf  [b6fedda4-780a-4059-a594-df751a5a6d7c]  Une cellule élémentaire d’un filtre de Lyot se...    2.86         5              5                5          La réponse du chatbot est correcte. Elle décri...  La réponse est complète et précise. Elle menti...  La réponse du chatbot est entièrement fondée s...      0.81    \n",
       "16  Quelle combinaison de lames biréfringentes per...  Un filtre de Lyot constitué de trois lames de ...             Le-coronographe-de-Lyot.pdf  [b6fedda4-780a-4059-a594-df751a5a6d7c]  Une combinaison de trois lames cristallines d’...    1.44         5              5                5          La réponse du chatbot est factuellement correc...  La réponse est précise et pertinente. Elle men...  La réponse du chatbot correspond précisément a...      0.71    \n",
       "17  Pourquoi associe-t-on un ou deux filtres inter...  Les filtres interférentiels servent à isoler u...             Le-coronographe-de-Lyot.pdf  [b6fedda4-780a-4059-a594-df751a5a6d7c]  On associe un ou deux filtres interférentiels ...    1.54         4              5                5          La réponse est globalement correcte mais il y ...  La réponse est pertinente et précise. Elle exp...  La réponse du chatbot est entièrement fondée s...      0.79    \n",
       "18  Comment la lentille objectif asphérique du cor...  On applique une correction de forme à la lenti...             Le-coronographe-de-Lyot.pdf  [b6fedda4-780a-4059-a594-df751a5a6d7c]  La lentille objectif asphérique du coronograph...   36.88         2              4                4          La réponse du chatbot mentionne l'ajustement d...  La réponse est très pertinente et aborde les p...  La réponse du chatbot est en grande partie fon...      0.55    \n",
       "19  Quelle est la luminosité relative de la couron...  La couronne solaire est environ un million (10...             Le-coronographe-de-Lyot.pdf  [b6fedda4-780a-4059-a594-df751a5a6d7c]  La couronne solaire est $10^6$ fois moins lumi...    2.98         5              5                5          La réponse du chatbot est parfaitement correct...  La réponse est précise et fournit les valeurs ...  La réponse du chatbot est entièrement fondée s...      0.92    \n",
       "20  Quel est le diamètre de la coupole qui abrite ...  La coupole hémisphérique qui protège le Schmid...  Le-telescope-de-Schmidt-Cassegrain.pdf  [20012ce8-c0a7-4ce3-bb06-b56a8ea3b299]  Le diamètre de la coupole qui abrite le télesc...    2.88         5              5                5          La réponse du chatbot est parfaitement correct...  Réponse précise et directement pertinente à la...  La réponse du chatbot est entièrement fondée s...      0.60    \n",
       "21  Que signifient exactement les mentions « Casse...  « Cassegrain » indique que le miroir principal...  Le-telescope-de-Schmidt-Cassegrain.pdf  [20012ce8-c0a7-4ce3-bb06-b56a8ea3b299]  La mention « Cassegrain » signifie que le miro...   32.48         4              3                5          La réponse est presque correcte, mais elle man...  La réponse est partiellement correcte. La ment...  La réponse du chatbot est entièrement fondée s...      0.93    \n",
       "22  Quelle distance focale obtient-on pour le téle...  En appliquant la relation $f = \\dfrac{f_1 f_2}...  Le-telescope-de-Schmidt-Cassegrain.pdf  [20012ce8-c0a7-4ce3-bb06-b56a8ea3b299]  Pour une distance L de 740 mm, la distance foc...   31.78         5              5                5          La réponse du chatbot est parfaitement correct...  La réponse est directement pertinente à la que...  La réponse du chatbot correspond exactement au...      0.74    \n",
       "23  Quelle marge de déplacement possède le miroir ...  Le miroir secondaire peut être translaté sur 2...  Le-telescope-de-Schmidt-Cassegrain.pdf  [20012ce8-c0a7-4ce3-bb06-b56a8ea3b299]  Le miroir secondaire dispose d’une latitude de...   61.43         5              5                5          La réponse du chatbot est parfaitement correct...  La réponse est précise et pertinente, fourniss...  La réponse du chatbot correspond exactement au...      0.84    \n",
       "24  Quels sont les rayons respectifs de l’ouvertur...  Le faisceau incident est limité par une ouvert...  Le-telescope-de-Schmidt-Cassegrain.pdf  [20012ce8-c0a7-4ce3-bb06-b56a8ea3b299]  Le rayon de l'ouverture du télescope est de 20...    1.04         5              5                5          La réponse du chatbot est parfaitement correct...  La réponse est pertinente et fournit les infor...  Les informations données par le chatbot corres...      0.64    \n",
       "25  Comment l’obstruction centrale influe-t-elle s...  Le masque central atténue l’intensité du lobe ...  Le-telescope-de-Schmidt-Cassegrain.pdf  [20012ce8-c0a7-4ce3-bb06-b56a8ea3b299]  L'obstruction centrale atténue le lobe princip...    1.91         5              4                5          La réponse du chatbot est factuellement correc...  La réponse est pertinente et explique correcte...  La réponse du chatbot est entièrement fondée s...      0.52    \n",
       "26  Quel est le rayon de l’image réelle de la Lune...  Pour un diamètre apparent moyen de 30′ (soit u...  Le-telescope-de-Schmidt-Cassegrain.pdf  [20012ce8-c0a7-4ce3-bb06-b56a8ea3b299]  Le rayon de l'image réelle de la Lune dans le ...    1.75         5              5                5          La réponse du chatbot est parfaitement correct...  La réponse est précise et directement pertinen...  La réponse du chatbot mentionne que le rayon d...      0.77    \n",
       "27  Quel matériau est employé pour la lame de Schm...  La lame est taillée dans un verre borosilicate...  Le-telescope-de-Schmidt-Cassegrain.pdf  [20012ce8-c0a7-4ce3-bb06-b56a8ea3b299]  La lame de Schmidt est réalisée en verre boros...    4.86         4              5                5          La réponse est presque correcte, mais il y a u...  Réponse correcte et précise. Le matériau et la...  La réponse du chatbot est entièrement fondée s...      0.82    \n",
       "28  Quelle valeur expérimentale de la constante sa...  L’ajustement expérimental montre qu’une valeur...  Le-telescope-de-Schmidt-Cassegrain.pdf  [20012ce8-c0a7-4ce3-bb06-b56a8ea3b299]  La valeur expérimentale de la constante sans d...    2.19         5              5                5          La réponse du chatbot est parfaitement correct...  La réponse est précise et directement pertinen...  La réponse du chatbot mentionne que la constan...      0.58    \n",
       "29  Pourquoi le réglage de collimation sur ce Schm...  Le miroir secondaire, solidaire de la lame de ...  Le-telescope-de-Schmidt-Cassegrain.pdf  [20012ce8-c0a7-4ce3-bb06-b56a8ea3b299]  Le réglage de collimation sur ce Schmidt-Casse...   63.81         5              5                5          La réponse du chatbot est parfaitement correct...  La réponse est pertinente et explique correcte...  La réponse du chatbot est entièrement fondée s...      0.64    \n",
       "30  Quel type de télescope est installé à l’observ...  L’instrument est un télescope Schmidt-Cassegra...     Manuel de formation - Telescope.pdf  [b15b8765-ca87-4208-8315-ff05641d8cc5]  L'observatoire de la Pointe du Diable dispose ...    1.34         5              5                5          La réponse du chatbot est parfaitement correct...  La réponse est complète et pertinente, fournis...  La réponse est entièrement fondée sur les info...      0.85    \n",
       "31  De quoi se compose le contrepoids principal ut...  Le contrepoids principal, fixé en bout de l’ax...     Manuel de formation - Telescope.pdf  [b15b8765-ca87-4208-8315-ff05641d8cc5]  Le contrepoids principal se compose de 2 poids...   31.70         5              5                5          La réponse du chatbot est parfaitement correct...  La réponse est complète et précise, fournissan...  La réponse du chatbot correspond exactement au...      0.85    \n",
       "32  Quel dispositif assure la synchronisation auto...  Le « dôme tracker » réalise la synchronisation...     Manuel de formation - Telescope.pdf  [b15b8765-ca87-4208-8315-ff05641d8cc5]  Le dispositif « Dome Tracker » assure la synch...    1.88         4              5                5          La réponse est globalement correcte mais manqu...  La réponse est parfaitement pertinente. Elle i...  La réponse du chatbot est entièrement fondée s...      0.85    \n",
       "33  Quelle capacité de stockage possède le NAS de ...  Le NAS Synology DS216J offre 3 To de stockage ...     Manuel de formation - Telescope.pdf  [b15b8765-ca87-4208-8315-ff05641d8cc5]  Le NAS de l’observatoire possède une capacité ...    0.93         5              5                5          La réponse du chatbot est parfaitement correct...  La réponse est précise et fournit les informat...  La réponse du chatbot est entièrement fondée s...      0.55    \n",
       "34  Quelles sont l’angle de champ et la résolution...  La caméra AllSky ALPHEA 6CL couleur couvre un ...     Manuel de formation - Telescope.pdf  [b15b8765-ca87-4208-8315-ff05641d8cc5]  L'angle de champ de la caméra AllSky est de 18...  123.24         5              5                5          La réponse du chatbot est parfaitement correct...  La réponse fournit les informations demandées ...  Toutes les informations fournies dans la répon...      0.88    \n",
       "35  Dans quel ordre doit-on mettre sous tension le...  Il faut successivement : 1) allumer l’onduleur...     Manuel de formation - Telescope.pdf  [b15b8765-ca87-4208-8315-ff05641d8cc5]  On doit mettre sous tension dans l’ordre : l’o...   31.77         5              5                5          La réponse du chatbot est correcte et suit l'o...  La réponse est complète et précise, indiquant ...  La réponse du chatbot est entièrement fondée s...      0.69    \n",
       "36  Lors de la procédure de mise au zénith, à quel...  La carte du ciel doit être agrandie jusqu’au z...     Manuel de formation - Telescope.pdf  [b15b8765-ca87-4208-8315-ff05641d8cc5]  Pour garantir la précision du réalignement, il...   31.96         5              5                5          La réponse du chatbot est parfaitement correct...  La réponse est précise et pertinente, fourniss...  La réponse du chatbot est entièrement fondée s...      0.86    \n",
       "37  Quel appareil assure la mise au point micromét...  La mise au point fine est assurée par le focus...     Manuel de formation - Telescope.pdf  [b15b8765-ca87-4208-8315-ff05641d8cc5]  Le focuseur assure la mise au point micrométri...   33.26         3              5                4          La réponse mentionne le focuseur pour la mise ...  La réponse est complète et précise, elle répon...  La réponse est bien fondée sur les documents, ...      0.73    \n",
       "38  À quoi sert le doubleur VGA installé dans la c...  Le doubleur VGA permet de brancher un écran de...     Manuel de formation - Telescope.pdf  [b15b8765-ca87-4208-8315-ff05641d8cc5]  Le doubleur VGA permet d'avoir un écran de con...    1.35         5              5                5          La réponse du chatbot est parfaitement correct...  La réponse est parfaitement pertinente et répo...  La réponse du chatbot est entièrement fondée s...      0.84    \n",
       "39  Que doit-on faire en priorité si des condition...  En cas de météo défavorable, la première actio...     Manuel de formation - Telescope.pdf  [b15b8765-ca87-4208-8315-ff05641d8cc5]  En cas de conditions météorologiques défavorab...   34.30         4              4                5          La réponse est presque correcte. Elle mentionn...  La réponse est pertinente et détaillée, mais p...  La réponse du chatbot est entièrement fondée s...      0.54    \n",
       "40  Que devez-vous faire si, au passage au méridie...  Il faut corriger l’azimut en faisant pivoter l...                méthode-de-Bigourdan.pdf  [f69faa0d-3a96-460a-bfbd-fb875269f840]  Si, au passage au méridien, l’étoile test déri...   33.81         1              5                3          La réponse du chatbot est incorrecte. La dériv...  La réponse est précise et directement pertinen...  La réponse mentionne le désalignement en haute...      0.67    \n",
       "41  Lorsqu’une étoile circumpolaire observée à l’e...  On doit abaisser légèrement l’axe horaire, c’e...                méthode-de-Bigourdan.pdf  [f69faa0d-3a96-460a-bfbd-fb875269f840]  Si une étoile circumpolaire observée à l’est d...    1.78         5              5                5          La réponse du chatbot est correcte. Elle indiq...  La réponse est correcte et pertinente. Elle ex...  La réponse du chatbot est entièrement fondée s...      0.56    \n",
       "42  Quelle dérive maximale reste tolérable quand l...  Lorsque |Δφ| est inférieur à 1′, la dérive rés...                méthode-de-Bigourdan.pdf  [f69faa0d-3a96-460a-bfbd-fb875269f840]  Pour une erreur de hauteur du pôle inférieure ...    2.02         5              5                5          La réponse du chatbot est parfaitement correct...  La réponse est précise et directement liée à l...  La réponse du chatbot correspond exactement au...      0.68    \n",
       "43  Quel défaut résiduel typique subsiste encore a...  Il subsiste un défaut d’environ Δφ ≃ ΔA ≃ 3 × ...                méthode-de-Bigourdan.pdf  [f69faa0d-3a96-460a-bfbd-fb875269f840]  Après une mise en station sur le « pôle réfrac...    5.33         4              5                5          La réponse est globalement correcte, mais la n...  La réponse est parfaitement pertinente et four...  La réponse du chatbot est entièrement fondée s...      0.27    \n",
       "44  De combien de degrés faut-il tourner chaque vi...  Il faut dévisser symétriquement les deux vis d...                méthode-de-Bigourdan.pdf  [f69faa0d-3a96-460a-bfbd-fb875269f840]  Il faut dévisser symétriquement les deux vis d...    1.05         5              5                5          La réponse du chatbot est factuellement correc...  La réponse est précise et directement pertinen...  La réponse du chatbot est entièrement fondée s...      0.64    \n",
       "45  Quel accessoire d’observation est recommandé p...  Un oculaire à réticule illuminé est vivement c...                méthode-de-Bigourdan.pdf  [f69faa0d-3a96-460a-bfbd-fb875269f840]                                    Je ne sais pas.   31.34         0              0                0          Le chatbot n'a pas fourni de réponse, donc auc...  La réponse ne fournit aucune information perti...  La réponse \"Je ne sais pas\" n'est pas basée su...      0.33    \n",
       "46  Quelle particularité des vis différentielles d...  Chaque vis comporte deux filetages de pas diff...                méthode-de-Bigourdan.pdf  [f69faa0d-3a96-460a-bfbd-fb875269f840]  Les vis différentielles de réglage comportent ...   63.28         5              5                5          La réponse du chatbot est factuellement correc...  La réponse est parfaitement pertinente et expl...  La réponse du chatbot est entièrement fondée s...      0.64    \n",
       "47  Si l’on effectue un tour complet sur la vis ou...  Cette action déplace l’axe d’environ 6,2 minut...                méthode-de-Bigourdan.pdf  [f69faa0d-3a96-460a-bfbd-fb875269f840]  Un tour complet sur la vis ouest et l'inverse ...   33.23         4              3                5          La réponse est globalement correcte, mais la f...  La réponse mentionne une rotation azimutale, c...  La réponse est entièrement fondée sur les docu...      0.52    \n",
       "48  Avant de commencer les mesures, quel réglage d...  Il faut vérifier que la monture suit exactemen...                méthode-de-Bigourdan.pdf  [f69faa0d-3a96-460a-bfbd-fb875269f840]  Vous devez confirmer que la vitesse angulaire ...    1.56         5              5                5          La réponse du chatbot est parfaitement correct...  La réponse est précise et pertinente, elle rép...  La réponse du chatbot est entièrement fondée s...      0.60    \n",
       "49  Pourquoi la méthode conseille-t-elle de choisi...  Au méridien, l’erreur d’azimut produit l’effet...                méthode-de-Bigourdan.pdf  [f69faa0d-3a96-460a-bfbd-fb875269f840]  La méthode conseille de choisir une étoile pro...    1.59         3              4                3          La réponse mentionne la réfraction atmosphériq...  La réponse est globalement correcte. Elle ment...  La réponse mentionne des éléments présents dan...      0.50    \n",
       "50  Quel type de monture et quel mécanisme d’entra...  Les instruments sont installés sur une monture...      Pointage-et-suivi-automatiques.pdf  [e087927a-1860-4398-ae73-1a962061a835]  Les instruments de l'observatoire de la Pointe...    2.10         4              5                5          La réponse du chatbot est presque correcte, ma...  La réponse est parfaitement pertinente et déta...  La réponse du chatbot est entièrement fondée s...      0.77    \n",
       "51  Quelle vitesse de guidage, exprimée en micro-p...  Une vitesse de 106,959 µpas /s correspond rigo...      Pointage-et-suivi-automatiques.pdf  [e087927a-1860-4398-ae73-1a962061a835]  La vitesse de guidage de 106.959 µpas/s corres...   63.02         5              5                5          La réponse du chatbot est factuellement correc...  La réponse est parfaitement pertinente et préc...  La réponse du chatbot est entièrement fondée s...      0.75    \n",
       "52  Quelle précision angulaire est visée pour le p...  Le système vise une erreur de pointage inférie...      Pointage-et-suivi-automatiques.pdf  [e087927a-1860-4398-ae73-1a962061a835]  La précision angulaire visée pour le pointage ...  123.38         5              5                5          La réponse du chatbot est parfaitement correct...  La réponse est précise et pertinente. Elle fou...  La réponse du chatbot est entièrement fondée s...      0.76    \n",
       "53  À quelle fraction de tour de la vis sans fin e...  Un micro-pas vaut $\\tfrac{1}{92\\,160}$ de tour...      Pointage-et-suivi-automatiques.pdf  [e087927a-1860-4398-ae73-1a962061a835]  Un micro-pas du moteur pas-à-pas correspond à ...    3.85         5              4                5          La réponse du chatbot est parfaitement correct...  La réponse est pertinente et précise, mais pou...  La réponse du chatbot est entièrement fondée s...      0.64    \n",
       "54  Quelles méthodes complémentaires la documentat...  Outre l’usinage soigné de la vis sans fin, ell...      Pointage-et-suivi-automatiques.pdf  [e087927a-1860-4398-ae73-1a962061a835]  Pour améliorer la précision de la poursuite ph...    1.58         4              5                5          La réponse du chatbot est presque complète mai...  La réponse est pertinente et complète, mention...  La réponse est entièrement fondée sur les info...      0.66    \n",
       "55  Quel dispositif assure la synchronisation entr...  Le dispositif électronique « dome-tracker » re...      Pointage-et-suivi-automatiques.pdf  [e087927a-1860-4398-ae73-1a962061a835]  Le dispositif « Dome Tracker » assure la synch...    1.31         3              5                4          La réponse mentionne correctement le dispositi...  La réponse est précise et pertinente. Elle ide...  La réponse est principalement fondée sur les d...      0.69    \n",
       "56  Quels paramètres météorologiques le boîtier SE...  Le SENTINEL mesure la pression atmosphérique, ...      Pointage-et-suivi-automatiques.pdf  [e087927a-1860-4398-ae73-1a962061a835]  Le boîtier SENTINEL surveille plusieurs paramè...   35.20         5              5                5          La réponse du chatbot est parfaitement correct...  La réponse est complète et pertinente, couvran...  La réponse du chatbot est entièrement fondée s...      0.84    \n",
       "57  Quels sont les principaux avantages mécaniques...  La monture altazimutale est plus simple à cons...      Pointage-et-suivi-automatiques.pdf  [e087927a-1860-4398-ae73-1a962061a835]  Les montures altazimutales sont plus simples à...    1.06         5              4                5          La réponse du chatbot est parfaitement correct...  La réponse est pertinente et mentionne des ava...  La réponse correspond exactement aux informati...      0.89    \n",
       "58  Pourquoi la monture équatoriale allemande de l...  L’axe optique étant déporté sur une monture éq...      Pointage-et-suivi-automatiques.pdf  [e087927a-1860-4398-ae73-1a962061a835]  La monture équatoriale allemande nécessite un ...   64.41         5              5                5          La réponse du chatbot est factuellement correc...  La réponse est parfaitement pertinente et expl...  La réponse du chatbot est entièrement fondée s...      0.80    \n",
       "59  Quelle valeur de la durée du jour sidéral $T_{...  La formule emploie $T_{\\text{sid}} = 23\\,\\text...      Pointage-et-suivi-automatiques.pdf  [e087927a-1860-4398-ae73-1a962061a835]                                    Je ne sais pas.   31.13         0              0                5          Le chatbot n'a pas fourni de réponse, ce qui e...  La réponse est hors-sujet et ne fournit aucune...  La réponse \"Je ne sais pas\" est appropriée éta...      0.25    \n",
       "60  Quelle alimentation électrique (tension, coura...  La STF-8300 doit être alimentée en courant con...                  stf-8300_manual_12.pdf  [63c063d2-7b8b-4f61-9942-7ba13996721f]  La caméra STF-8300 nécessite une alimentation ...   34.14         4              5                5          La réponse est globalement correcte, mais elle...  La réponse est complète et pertinente, fournis...  La réponse du chatbot est entièrement fondée s...      0.52    \n",
       "61  Quelle est la longueur maximale du câble USB f...  Le câble USB 2 fourni mesure 15 pieds, soit en...                  stf-8300_manual_12.pdf  [63c063d2-7b8b-4f61-9942-7ba13996721f]  La longueur maximale du câble USB fourni est d...  125.93         4              4                5          La réponse du chatbot est globalement correcte...  La réponse est pertinente et fournit des solut...  La réponse du chatbot est entièrement fondée s...      0.86    \n",
       "62  Quel écart de température maximal le refroidis...  Le module TE peut abaisser la température du c...                  stf-8300_manual_12.pdf  [63c063d2-7b8b-4f61-9942-7ba13996721f]  Le refroidissement thermo-électrique (TE) de l...   32.14         5              5                5          La réponse du chatbot est parfaitement correct...  La réponse est précise et répond parfaitement ...  Toutes les informations données par le chatbot...      0.55    \n",
       "63  Pourquoi le manuel interdit-il de brancher ou ...  Le connecteur d’alimentation n’est pas prévu p...                  stf-8300_manual_12.pdf  [63c063d2-7b8b-4f61-9942-7ba13996721f]                                    Je ne sais pas.   31.75         0              0                0                      Le chatbot n'a pas fourni de réponse.  La réponse ne fournit aucune information perti...  La réponse \"Je ne sais pas\" n'est pas fondée s...      0.44    \n",
       "64  Quels cavaliers près du port télescope permett...  Le cavalier J9 broches 1-2 met le signal Commo...                  stf-8300_manual_12.pdf  [63c063d2-7b8b-4f61-9942-7ba13996721f]  1) Le cavalier J9 Pin 1 à 2 permet de relier l...   32.02         5              5                5          La réponse du chatbot est parfaitement correct...  La réponse est précise et répond parfaitement ...  Les informations fournies par le chatbot corre...      0.80    \n",
       "65  Quelle procédure précise le manuel pour régéné...  Dévisser le bouchon dessiccant du flanc opposé...                  stf-8300_manual_12.pdf  [63c063d2-7b8b-4f61-9942-7ba13996721f]  Pour régénérer le bouchon dessiccant en cas de...   38.70         3              3                5          La réponse du chatbot contient des éléments co...  La réponse donne des étapes pour régénérer le ...  La réponse du chatbot est entièrement fondée s...      0.62    \n",
       "66  Selon les spécifications, quel est le courant ...  À −10 °C, le courant d’obscurité typique est d...                  stf-8300_manual_12.pdf  [63c063d2-7b8b-4f61-9942-7ba13996721f]  Le courant d'obscurité typique à −10 °C est de...    1.81         5              5                5          La réponse du chatbot est parfaitement correct...  La réponse est complète et précise, fournissan...  Toutes les informations fournies dans la répon...      0.75    \n",
       "67  Dans CCDOps, quel réglage permet de réutiliser...  Dans « Camera Setup », placer « Reuse dark fra...                  stf-8300_manual_12.pdf  [63c063d2-7b8b-4f61-9942-7ba13996721f]                                    Je ne sais pas.   31.59         0              0                0                      Le chatbot n'a pas fourni de réponse.  La réponse ne fournit aucune information perti...  La réponse \"Je ne sais pas\" n'est basée sur au...      0.24    \n",
       "68  Quel mode de la commande « Focus » augmente fo...  Le « Planet mode » : après une première image ...                  stf-8300_manual_12.pdf  [63c063d2-7b8b-4f61-9942-7ba13996721f]  Le mode « Planet » augmente fortement la caden...   32.75         5              4                5          La réponse du chatbot est parfaitement correct...  La réponse est pertinente et explique bien le ...  La réponse du chatbot est entièrement fondée s...      0.81    \n",
       "69  Citez trois accessoires optionnels spécifiquem...  Parmi les accessoires dédiés : 1) les roues à ...                  stf-8300_manual_12.pdf  [63c063d2-7b8b-4f61-9942-7ba13996721f]  Les accessoires optionnels spécifiquement prop...    2.32         3              5                5          La réponse est partiellement correcte. Le chat...  La réponse est pertinente et précise, citant t...  La réponse du chatbot est entièrement fondée s...      0.63    \n",
       "70  Quel numéro de port HTTP le guide indique-t-il...  Le guide précise que l’on accède à DSM en tapa...        Syno_UsersGuide_NAServer_fra.pdf  [819424af-a2ad-47a3-ac90-a2432349ca0a]  Le guide indique que le numéro de port HTTP pa...    1.10         5              5                5          La réponse du chatbot est parfaitement correct...  La réponse est correcte et précise, fournissan...  La réponse du chatbot est entièrement fondée s...      0.83    \n",
       "71  Comment réinitialiser le mot de passe du compt...  Appuyer sur le bouton RESET à l’arrière du Syn...        Syno_UsersGuide_NAServer_fra.pdf  [819424af-a2ad-47a3-ac90-a2432349ca0a]  Pour réinitialiser le mot de passe du compte «...    1.82         5              1                5          La réponse est parfaitement correcte et corres...  La réponse mentionne une procédure de réinitia...  La réponse du chatbot correspond exactement au...      0.88    \n",
       "72  Quel est le nombre maximal d’instantanés que l...  Un iSCSI LUN peut contenir jusqu’à 256 instant...        Syno_UsersGuide_NAServer_fra.pdf  [819424af-a2ad-47a3-ac90-a2432349ca0a]  Vous pouvez créer jusqu’à 256 instantanés par ...    0.87         5              5                5          La réponse du chatbot est factuellement correc...  La réponse est précise et directement pertinen...  La réponse du chatbot mentionne que l'on peut ...      0.81    \n",
       "73  Quelle est, d’après le guide, la taille maxima...  La capacité maximale qu’un tel volume peut att...        Syno_UsersGuide_NAServer_fra.pdf  [819424af-a2ad-47a3-ac90-a2432349ca0a]  La taille maximale d'un volume qui peut être a...   35.04         5              3                5          La réponse du chatbot est parfaitement correct...  La réponse mentionne une taille maximale de 20...  La réponse est entièrement fondée sur les info...      0.69    \n",
       "74  Combien de disques durs au minimum faut-il ins...  La configuration RAID 5 requiert au moins troi...        Syno_UsersGuide_NAServer_fra.pdf  [819424af-a2ad-47a3-ac90-a2432349ca0a]  Pour créer un volume RAID 5, il faut installer...    2.65         5              5                5          La réponse du chatbot est parfaitement correct...  La réponse est correcte et précise. Le RAID 5 ...  La réponse du chatbot est entièrement fondée s...      0.74    \n",
       "75  Quelle fonction doit être activée pour amélior...  Il faut activer la fonction « SSD TRIM », spéc...        Syno_UsersGuide_NAServer_fra.pdf  [819424af-a2ad-47a3-ac90-a2432349ca0a]  Pour améliorer les performances de lecture et ...    5.39         5              5                5          La réponse du chatbot est correcte et complète...  La réponse est pertinente et précise. Elle men...  La réponse du chatbot est entièrement fondée s...      0.77    \n",
       "76  Quelles sont les deux formes d’URL proposées p...  Le guide recommande d’utiliser soit « http://S...        Syno_UsersGuide_NAServer_fra.pdf  [819424af-a2ad-47a3-ac90-a2432349ca0a]  Les deux formes d’URL proposées pour se connec...    1.86         5              5                5          La réponse du chatbot est parfaitement correct...  La réponse est correcte et pertinente. Elle do...  Les informations fournies dans la réponse corr...      0.87    \n",
       "77  Quel widget permet de surveiller en temps réel...  Le widget « Moniteur de ressources » affiche e...        Syno_UsersGuide_NAServer_fra.pdf  [819424af-a2ad-47a3-ac90-a2432349ca0a]  Le widget \"Moniteur de ressources\" permet de s...   32.13         5              5                5          La réponse du chatbot est parfaitement correct...  La réponse est parfaitement pertinente et répo...  La réponse du chatbot est entièrement fondée s...      0.85    \n",
       "78  Quelle mesure de sécurité supplémentaire peut-...  La « vérification en 2 étapes » (authentificat...        Syno_UsersGuide_NAServer_fra.pdf  [819424af-a2ad-47a3-ac90-a2432349ca0a]  La vérification en 2 étapes. Elle nécessite un...    1.81         5              5                5          La réponse est parfaitement correcte et contie...  La réponse est exacte et pertinente. La vérifi...  La réponse est entièrement fondée sur les info...      0.85    \n",
       "79  Lorsqu’on étend un volume SHR en remplaçant de...  Chaque disque de remplacement doit avoir une c...        Syno_UsersGuide_NAServer_fra.pdf  [819424af-a2ad-47a3-ac90-a2432349ca0a]  Chaque nouveau disque doit être au moins égal ...    1.71         5              4                4          La réponse du chatbot est parfaitement correct...  La réponse est presque complète et correcte. E...  La réponse est principalement fondée sur les d...      0.78    "
      ]
     },
     "metadata": {},
     "output_type": "display_data"
    }
   ],
   "source": [
    "print(\"\\n\\nRésultats de l'évaluation :\\n\")\n",
    "pd.set_option('display.max_rows', None)\n",
    "pd.set_option('display.max_columns', None)\n",
    "pd.set_option('display.width', 1000)\n",
    "pd.set_option('display.colheader_justify', 'center')\n",
    "pd.set_option('display.precision', 2)\n",
    "display(df)"
   ]
  }
 ],
 "metadata": {
  "kernelspec": {
   "display_name": "Python 3",
   "language": "python",
   "name": "python3"
  },
  "language_info": {
   "codemirror_mode": {
    "name": "ipython",
    "version": 3
   },
   "file_extension": ".py",
   "mimetype": "text/x-python",
   "name": "python",
   "nbconvert_exporter": "python",
   "pygments_lexer": "ipython3",
   "version": "3.11.12"
  }
 },
 "nbformat": 4,
 "nbformat_minor": 5
}
